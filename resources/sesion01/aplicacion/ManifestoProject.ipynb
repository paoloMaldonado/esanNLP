{
 "cells": [
  {
   "cell_type": "markdown",
   "id": "908afb93-16b9-4ff8-b0b0-372e044ee809",
   "metadata": {},
   "source": [
    "### Caso de aplicación con TF-IDF y Machine Learning\n",
    "# Manifesto Project"
   ]
  },
  {
   "attachments": {
    "1877d414-afc3-4330-a0aa-7f882310e236.png": {
     "image/png": "[encoded data removed]"
    }
   },
   "cell_type": "markdown",
   "id": "4e7ff762-3387-48a3-af8d-d601ad1e4b4c",
   "metadata": {
    "tags": []
   },
   "source": [
    "Conjunto de textos políticos recolectados a lo largo de 2 décadas de diferentes partes del mundo (incluido latinoamérica). Los textos políticos han sido anotados por personas especializadas en el campo y siguiendo un entrenamiento previo para garantizar la calidad de las anotaciones.\n",
    "[Link del dataset original](https://manifestoproject.wzb.eu/)\n",
    "\n",
    "La versión que vamos a utilizar consiste en 56 categorías específicas agrupadas en 7 dominios políticos: \n",
    "- external relations\n",
    "- freedom and democracy \n",
    "- political system \n",
    "- economy\n",
    "- welfare and quality of life \n",
    "- social groups\n",
    "\n",
    "Concretamente, nosotros nos centraremos en la clasificacion de textos politicos en el idioma español. El dataset de este notebook contiene los textos extraidos de cada manifiesto y con preprocesamiento simple de modo que solo nos vamos a centrar en la parte de clasificacion.\n",
    "\n",
    "#### Metricas\n",
    "![metrica_manifesto.png](attachment:1877d414-afc3-4330-a0aa-7f882310e236.png)\n",
    "\n",
    "#### Clases\n",
    "- class 0 = ['Economy']\n",
    "- class 1 = ['External Relations']\n",
    "- class 2 = ['Fabric of Society']\n",
    "- class 3 = ['Freedom and Democracy']\n",
    "- class 4 = ['Political System']\n",
    "- class 5 = ['Social Groups']\n",
    "- class 6 = ['Welfare and Quality of Life']"
   ]
  },
  {
   "cell_type": "markdown",
   "id": "d95632b2-bc99-4b08-8f7e-b66730a7801c",
   "metadata": {},
   "source": [
    "Importamos las librerias que vamos a utilizar"
   ]
  },
  {
   "cell_type": "code",
   "execution_count": 1,
   "id": "2ca682a5-b856-455d-915a-cbfa58d70878",
   "metadata": {
    "tags": []
   },
   "outputs": [],
   "source": [
    "import numpy as np                                           # operaciones varias \n",
    "import pandas as pd                                          # manejo del dataset\n",
    "from sklearn.feature_extraction.text import TfidfVectorizer  # vectorizacion\n",
    "from sklearn.model_selection import train_test_split         # division del dataset\n",
    "from sklearn.svm import SVC                                  # clasificador\n",
    "# evaluacion del modelo de clasificacion\n",
    "from sklearn.metrics import accuracy_score\n",
    "from sklearn.metrics import f1_score"
   ]
  },
  {
   "cell_type": "markdown",
   "id": "718ec20f-0c18-4279-912e-8d22fcf02eb8",
   "metadata": {},
   "source": [
    "Cargamos el dataset"
   ]
  },
  {
   "cell_type": "code",
   "execution_count": 2,
   "id": "6eebf9e9-886e-4e16-9c27-9bafef501872",
   "metadata": {
    "tags": []
   },
   "outputs": [
    {
     "data": {
      "text/html": [
       "<div>\n",
       "<style scoped>\n",
       "    .dataframe tbody tr th:only-of-type {\n",
       "        vertical-align: middle;\n",
       "    }\n",
       "\n",
       "    .dataframe tbody tr th {\n",
       "        vertical-align: top;\n",
       "    }\n",
       "\n",
       "    .dataframe thead th {\n",
       "        text-align: right;\n",
       "    }\n",
       "</style>\n",
       "<table border=\"1\" class=\"dataframe\">\n",
       "  <thead>\n",
       "    <tr style=\"text-align: right;\">\n",
       "      <th></th>\n",
       "      <th>phrase</th>\n",
       "      <th>prev_phrase</th>\n",
       "      <th>party</th>\n",
       "      <th>label</th>\n",
       "    </tr>\n",
       "  </thead>\n",
       "  <tbody>\n",
       "    <tr>\n",
       "      <th>0</th>\n",
       "      <td>la cual debe buscar la plena realización de to...</td>\n",
       "      <td>son principios liminares de toda democracia cr...</td>\n",
       "      <td>United for a New Alternative</td>\n",
       "      <td>2</td>\n",
       "    </tr>\n",
       "    <tr>\n",
       "      <th>1</th>\n",
       "      <td>la importancia de la familia y su promoción, i...</td>\n",
       "      <td>la cual debe buscar la plena realización de to...</td>\n",
       "      <td>United for a New Alternative</td>\n",
       "      <td>2</td>\n",
       "    </tr>\n",
       "    <tr>\n",
       "      <th>2</th>\n",
       "      <td>entendido éste como el conjunto de valores, no...</td>\n",
       "      <td>la importancia de la familia y su promoción, i...</td>\n",
       "      <td>United for a New Alternative</td>\n",
       "      <td>2</td>\n",
       "    </tr>\n",
       "    <tr>\n",
       "      <th>3</th>\n",
       "      <td>respetando y garantizando los derechos de las ...</td>\n",
       "      <td>entendido éste como el conjunto de valores, no...</td>\n",
       "      <td>United for a New Alternative</td>\n",
       "      <td>3</td>\n",
       "    </tr>\n",
       "    <tr>\n",
       "      <th>4</th>\n",
       "      <td>la protección de los derechos humanos desde un...</td>\n",
       "      <td>respetando y garantizando los derechos de las ...</td>\n",
       "      <td>United for a New Alternative</td>\n",
       "      <td>3</td>\n",
       "    </tr>\n",
       "    <tr>\n",
       "      <th>...</th>\n",
       "      <td>...</td>\n",
       "      <td>...</td>\n",
       "      <td>...</td>\n",
       "      <td>...</td>\n",
       "    </tr>\n",
       "    <tr>\n",
       "      <th>126452</th>\n",
       "      <td>gestionar recursos públicos para la instalació...</td>\n",
       "      <td>con la finalidad de reducir la vulnerabilidad ...</td>\n",
       "      <td>Social Encounter Party</td>\n",
       "      <td>6</td>\n",
       "    </tr>\n",
       "    <tr>\n",
       "      <th>126453</th>\n",
       "      <td>gestionar recursos federales que permitan adqu...</td>\n",
       "      <td>gestionar recursos públicos para la instalació...</td>\n",
       "      <td>Social Encounter Party</td>\n",
       "      <td>6</td>\n",
       "    </tr>\n",
       "    <tr>\n",
       "      <th>126454</th>\n",
       "      <td>la instalación de estaciones automáticas de mo...</td>\n",
       "      <td>gestionar recursos federales que permitan adqu...</td>\n",
       "      <td>Social Encounter Party</td>\n",
       "      <td>6</td>\n",
       "    </tr>\n",
       "    <tr>\n",
       "      <th>126455</th>\n",
       "      <td>esto a su vez, permitiría organizar campañas d...</td>\n",
       "      <td>la instalación de estaciones automáticas de mo...</td>\n",
       "      <td>Social Encounter Party</td>\n",
       "      <td>6</td>\n",
       "    </tr>\n",
       "    <tr>\n",
       "      <th>126456</th>\n",
       "      <td>dichos registros serán emitidos por el sistema...</td>\n",
       "      <td>esto a su vez, permitiría organizar campañas d...</td>\n",
       "      <td>Social Encounter Party</td>\n",
       "      <td>6</td>\n",
       "    </tr>\n",
       "  </tbody>\n",
       "</table>\n",
       "<p>126457 rows × 4 columns</p>\n",
       "</div>"
      ],
      "text/plain": [
       "                                                   phrase  \\\n",
       "0       la cual debe buscar la plena realización de to...   \n",
       "1       la importancia de la familia y su promoción, i...   \n",
       "2       entendido éste como el conjunto de valores, no...   \n",
       "3       respetando y garantizando los derechos de las ...   \n",
       "4       la protección de los derechos humanos desde un...   \n",
       "...                                                   ...   \n",
       "126452  gestionar recursos públicos para la instalació...   \n",
       "126453  gestionar recursos federales que permitan adqu...   \n",
       "126454  la instalación de estaciones automáticas de mo...   \n",
       "126455  esto a su vez, permitiría organizar campañas d...   \n",
       "126456  dichos registros serán emitidos por el sistema...   \n",
       "\n",
       "                                              prev_phrase  \\\n",
       "0       son principios liminares de toda democracia cr...   \n",
       "1       la cual debe buscar la plena realización de to...   \n",
       "2       la importancia de la familia y su promoción, i...   \n",
       "3       entendido éste como el conjunto de valores, no...   \n",
       "4       respetando y garantizando los derechos de las ...   \n",
       "...                                                   ...   \n",
       "126452  con la finalidad de reducir la vulnerabilidad ...   \n",
       "126453  gestionar recursos públicos para la instalació...   \n",
       "126454  gestionar recursos federales que permitan adqu...   \n",
       "126455  la instalación de estaciones automáticas de mo...   \n",
       "126456  esto a su vez, permitiría organizar campañas d...   \n",
       "\n",
       "                               party  label  \n",
       "0       United for a New Alternative      2  \n",
       "1       United for a New Alternative      2  \n",
       "2       United for a New Alternative      2  \n",
       "3       United for a New Alternative      3  \n",
       "4       United for a New Alternative      3  \n",
       "...                              ...    ...  \n",
       "126452        Social Encounter Party      6  \n",
       "126453        Social Encounter Party      6  \n",
       "126454        Social Encounter Party      6  \n",
       "126455        Social Encounter Party      6  \n",
       "126456        Social Encounter Party      6  \n",
       "\n",
       "[126457 rows x 4 columns]"
      ]
     },
     "execution_count": 2,
     "metadata": {},
     "output_type": "execute_result"
    }
   ],
   "source": [
    "df = pd.read_pickle('data/manifesto_uncased.df')\n",
    "df"
   ]
  },
  {
   "cell_type": "markdown",
   "id": "829a871a-821a-44fc-9a59-ae84efb77a9e",
   "metadata": {},
   "source": [
    "Solo usaremos la columna phrase y la columna label, por lo que lo demas lo podemos descartar actualizando nuestro dataframe"
   ]
  },
  {
   "cell_type": "code",
   "execution_count": 3,
   "id": "ba81a72a-8392-47fe-aca0-c11790ceed4d",
   "metadata": {
    "tags": []
   },
   "outputs": [
    {
     "data": {
      "text/html": [
       "<div>\n",
       "<style scoped>\n",
       "    .dataframe tbody tr th:only-of-type {\n",
       "        vertical-align: middle;\n",
       "    }\n",
       "\n",
       "    .dataframe tbody tr th {\n",
       "        vertical-align: top;\n",
       "    }\n",
       "\n",
       "    .dataframe thead th {\n",
       "        text-align: right;\n",
       "    }\n",
       "</style>\n",
       "<table border=\"1\" class=\"dataframe\">\n",
       "  <thead>\n",
       "    <tr style=\"text-align: right;\">\n",
       "      <th></th>\n",
       "      <th>phrase</th>\n",
       "      <th>label</th>\n",
       "    </tr>\n",
       "  </thead>\n",
       "  <tbody>\n",
       "    <tr>\n",
       "      <th>0</th>\n",
       "      <td>la cual debe buscar la plena realización de to...</td>\n",
       "      <td>2</td>\n",
       "    </tr>\n",
       "    <tr>\n",
       "      <th>1</th>\n",
       "      <td>la importancia de la familia y su promoción, i...</td>\n",
       "      <td>2</td>\n",
       "    </tr>\n",
       "    <tr>\n",
       "      <th>2</th>\n",
       "      <td>entendido éste como el conjunto de valores, no...</td>\n",
       "      <td>2</td>\n",
       "    </tr>\n",
       "    <tr>\n",
       "      <th>3</th>\n",
       "      <td>respetando y garantizando los derechos de las ...</td>\n",
       "      <td>3</td>\n",
       "    </tr>\n",
       "    <tr>\n",
       "      <th>4</th>\n",
       "      <td>la protección de los derechos humanos desde un...</td>\n",
       "      <td>3</td>\n",
       "    </tr>\n",
       "    <tr>\n",
       "      <th>...</th>\n",
       "      <td>...</td>\n",
       "      <td>...</td>\n",
       "    </tr>\n",
       "    <tr>\n",
       "      <th>126452</th>\n",
       "      <td>gestionar recursos públicos para la instalació...</td>\n",
       "      <td>6</td>\n",
       "    </tr>\n",
       "    <tr>\n",
       "      <th>126453</th>\n",
       "      <td>gestionar recursos federales que permitan adqu...</td>\n",
       "      <td>6</td>\n",
       "    </tr>\n",
       "    <tr>\n",
       "      <th>126454</th>\n",
       "      <td>la instalación de estaciones automáticas de mo...</td>\n",
       "      <td>6</td>\n",
       "    </tr>\n",
       "    <tr>\n",
       "      <th>126455</th>\n",
       "      <td>esto a su vez, permitiría organizar campañas d...</td>\n",
       "      <td>6</td>\n",
       "    </tr>\n",
       "    <tr>\n",
       "      <th>126456</th>\n",
       "      <td>dichos registros serán emitidos por el sistema...</td>\n",
       "      <td>6</td>\n",
       "    </tr>\n",
       "  </tbody>\n",
       "</table>\n",
       "<p>126457 rows × 2 columns</p>\n",
       "</div>"
      ],
      "text/plain": [
       "                                                   phrase  label\n",
       "0       la cual debe buscar la plena realización de to...      2\n",
       "1       la importancia de la familia y su promoción, i...      2\n",
       "2       entendido éste como el conjunto de valores, no...      2\n",
       "3       respetando y garantizando los derechos de las ...      3\n",
       "4       la protección de los derechos humanos desde un...      3\n",
       "...                                                   ...    ...\n",
       "126452  gestionar recursos públicos para la instalació...      6\n",
       "126453  gestionar recursos federales que permitan adqu...      6\n",
       "126454  la instalación de estaciones automáticas de mo...      6\n",
       "126455  esto a su vez, permitiría organizar campañas d...      6\n",
       "126456  dichos registros serán emitidos por el sistema...      6\n",
       "\n",
       "[126457 rows x 2 columns]"
      ]
     },
     "execution_count": 3,
     "metadata": {},
     "output_type": "execute_result"
    }
   ],
   "source": [
    "df = df[['phrase', 'label']]\n",
    "df"
   ]
  },
  {
   "cell_type": "markdown",
   "id": "0f58fb68-0fe6-40d5-b445-1f8ce5b27acd",
   "metadata": {},
   "source": [
    "### Dividimos en train set y test set (80/20)"
   ]
  },
  {
   "cell_type": "code",
   "execution_count": 4,
   "id": "eb63070c-4444-45c6-820b-0046d73cc669",
   "metadata": {
    "tags": []
   },
   "outputs": [],
   "source": [
    "X_train, X_test, y_train, y_test = train_test_split(df.phrase.to_numpy(), df.label.to_numpy(), test_size=0.20, random_state=2023)"
   ]
  },
  {
   "cell_type": "code",
   "execution_count": 5,
   "id": "d02240f5-46ca-49f6-9edf-42d70ca03e05",
   "metadata": {
    "tags": []
   },
   "outputs": [
    {
     "data": {
      "text/plain": [
       "(101165,)"
      ]
     },
     "execution_count": 5,
     "metadata": {},
     "output_type": "execute_result"
    }
   ],
   "source": [
    "X_train.shape"
   ]
  },
  {
   "cell_type": "code",
   "execution_count": 6,
   "id": "028c3fb0-08f4-4301-8a4a-5e1b84579cab",
   "metadata": {
    "tags": []
   },
   "outputs": [
    {
     "data": {
      "text/plain": [
       "(25292,)"
      ]
     },
     "execution_count": 6,
     "metadata": {},
     "output_type": "execute_result"
    }
   ],
   "source": [
    "X_test.shape"
   ]
  },
  {
   "cell_type": "code",
   "execution_count": 7,
   "id": "d0690d48-71cf-4f7a-a9ba-73701fdeb8ea",
   "metadata": {
    "tags": []
   },
   "outputs": [
    {
     "data": {
      "text/plain": [
       "(101165,)"
      ]
     },
     "execution_count": 7,
     "metadata": {},
     "output_type": "execute_result"
    }
   ],
   "source": [
    "y_train.shape"
   ]
  },
  {
   "cell_type": "code",
   "execution_count": 8,
   "id": "b5a052e0-2047-4d22-932c-adb3b61b6cdf",
   "metadata": {
    "tags": []
   },
   "outputs": [
    {
     "data": {
      "text/plain": [
       "(25292,)"
      ]
     },
     "execution_count": 8,
     "metadata": {},
     "output_type": "execute_result"
    }
   ],
   "source": [
    "y_test.shape"
   ]
  },
  {
   "cell_type": "code",
   "execution_count": 9,
   "id": "decc8389-d0e4-4ab0-a6f6-6e6b8e9ccb36",
   "metadata": {
    "tags": []
   },
   "outputs": [
    {
     "data": {
      "text/plain": [
       "<Axes: >"
      ]
     },
     "execution_count": 9,
     "metadata": {},
     "output_type": "execute_result"
    },
    {
     "data": {
      "image/png": "[encoded data removed]",
      "text/plain": [
       "<Figure size 500x500 with 1 Axes>"
      ]
     },
     "metadata": {},
     "output_type": "display_data"
    }
   ],
   "source": [
    "temp = pd.DataFrame(y_train, columns = ['train'])\n",
    "temp.value_counts().plot.pie(figsize=(5, 5), autopct='%1.1f%%')"
   ]
  },
  {
   "cell_type": "markdown",
   "id": "dbcdea69-a97f-4ebd-9143-de1493599b3d",
   "metadata": {},
   "source": [
    "**(Opcional)** Vamos a reducir el dataset y utilizar solo los 10000 primeros registros por motivos de salvar recursos computacionales y tiempo"
   ]
  },
  {
   "cell_type": "code",
   "execution_count": 10,
   "id": "9858c704-a5bc-4fbe-8c90-b11118893b8c",
   "metadata": {
    "tags": []
   },
   "outputs": [],
   "source": [
    "X_train = X_train[0:10000] \n",
    "X_test  = X_test[0:10000] \n",
    "y_train = y_train[0:10000] \n",
    "y_test  = y_test[0:10000] "
   ]
  },
  {
   "cell_type": "markdown",
   "id": "ef92e6b7-16d1-486f-ab09-2e0d0ea411bf",
   "metadata": {},
   "source": [
    "### Vectorizacion con TF-IDF"
   ]
  },
  {
   "cell_type": "markdown",
   "id": "e1a7696a-9ccc-4cc9-a28f-6133da999cf8",
   "metadata": {},
   "source": [
    "Creamos una instancia de TfidfVectorizer() y transformamos nuestro set de train en una matriz documento-termino"
   ]
  },
  {
   "cell_type": "code",
   "execution_count": 11,
   "id": "70bf7647-c244-4bdb-837a-5ca30c98f2d1",
   "metadata": {
    "tags": []
   },
   "outputs": [],
   "source": [
    "vectorizer = TfidfVectorizer()\n",
    "X_train = vectorizer.fit_transform(X_train)"
   ]
  },
  {
   "cell_type": "code",
   "execution_count": 12,
   "id": "b4f14f02-1c7e-4978-b622-b93bab56857b",
   "metadata": {
    "tags": []
   },
   "outputs": [
    {
     "data": {
      "text/plain": [
       "(10000, 16756)"
      ]
     },
     "execution_count": 12,
     "metadata": {},
     "output_type": "execute_result"
    }
   ],
   "source": [
    "X_train.shape   # 49816 - tamaño de vocabulario"
   ]
  },
  {
   "cell_type": "code",
   "execution_count": 13,
   "id": "51bda422-a5e1-4a1a-8107-8dc24c3e095e",
   "metadata": {
    "tags": []
   },
   "outputs": [
    {
     "data": {
      "text/plain": [
       "<10000x16756 sparse matrix of type '<class 'numpy.float64'>'\n",
       "\twith 182343 stored elements in Compressed Sparse Row format>"
      ]
     },
     "execution_count": 13,
     "metadata": {},
     "output_type": "execute_result"
    }
   ],
   "source": [
    "X_train"
   ]
  },
  {
   "cell_type": "markdown",
   "id": "31936572-3c87-47bd-bc80-37726763fbfb",
   "metadata": {},
   "source": [
    "Utilizamos la misma instacia de TF-IDF para transformar nuestro test set"
   ]
  },
  {
   "cell_type": "code",
   "execution_count": 14,
   "id": "fceecd56-6c21-4a77-ad1f-d1225a35788c",
   "metadata": {
    "tags": []
   },
   "outputs": [],
   "source": [
    "X_test = vectorizer.transform(X_test)"
   ]
  },
  {
   "cell_type": "code",
   "execution_count": 15,
   "id": "43d75da6-d185-4492-974e-fa5a3c39b491",
   "metadata": {
    "tags": []
   },
   "outputs": [
    {
     "data": {
      "text/plain": [
       "(10000, 16756)"
      ]
     },
     "execution_count": 15,
     "metadata": {},
     "output_type": "execute_result"
    }
   ],
   "source": [
    "X_test.shape"
   ]
  },
  {
   "cell_type": "markdown",
   "id": "0a71baa1-a6aa-46af-81ee-63971cb446d6",
   "metadata": {},
   "source": [
    "### Utilizando Machine Learning para la clasificacion "
   ]
  },
  {
   "cell_type": "markdown",
   "id": "d9318cb4-d54c-4521-ad10-73477d80a1f5",
   "metadata": {},
   "source": [
    "Instanciamos el modelo SVM para clasificacion"
   ]
  },
  {
   "cell_type": "code",
   "execution_count": 16,
   "id": "e43a088c-3551-4179-9a8a-429cebfdf4d8",
   "metadata": {
    "tags": []
   },
   "outputs": [],
   "source": [
    "classifier = SVC(kernel=\"rbf\")"
   ]
  },
  {
   "cell_type": "code",
   "execution_count": 17,
   "id": "12c900ea-7bd4-483d-9ea6-f9e3c9aa7dd3",
   "metadata": {
    "tags": []
   },
   "outputs": [
    {
     "data": {
      "text/html": [
       "<style>#sk-container-id-1 {color: black;background-color: white;}#sk-container-id-1 pre{padding: 0;}#sk-container-id-1 div.sk-toggleable {background-color: white;}#sk-container-id-1 label.sk-toggleable__label {cursor: pointer;display: block;width: 100%;margin-bottom: 0;padding: 0.3em;box-sizing: border-box;text-align: center;}#sk-container-id-1 label.sk-toggleable__label-arrow:before {content: \"▸\";float: left;margin-right: 0.25em;color: #696969;}#sk-container-id-1 label.sk-toggleable__label-arrow:hover:before {color: black;}#sk-container-id-1 div.sk-estimator:hover label.sk-toggleable__label-arrow:before {color: black;}#sk-container-id-1 div.sk-toggleable__content {max-height: 0;max-width: 0;overflow: hidden;text-align: left;background-color: #f0f8ff;}#sk-container-id-1 div.sk-toggleable__content pre {margin: 0.2em;color: black;border-radius: 0.25em;background-color: #f0f8ff;}#sk-container-id-1 input.sk-toggleable__control:checked~div.sk-toggleable__content {max-height: 200px;max-width: 100%;overflow: auto;}#sk-container-id-1 input.sk-toggleable__control:checked~label.sk-toggleable__label-arrow:before {content: \"▾\";}#sk-container-id-1 div.sk-estimator input.sk-toggleable__control:checked~label.sk-toggleable__label {background-color: #d4ebff;}#sk-container-id-1 div.sk-label input.sk-toggleable__control:checked~label.sk-toggleable__label {background-color: #d4ebff;}#sk-container-id-1 input.sk-hidden--visually {border: 0;clip: rect(1px 1px 1px 1px);clip: rect(1px, 1px, 1px, 1px);height: 1px;margin: -1px;overflow: hidden;padding: 0;position: absolute;width: 1px;}#sk-container-id-1 div.sk-estimator {font-family: monospace;background-color: #f0f8ff;border: 1px dotted black;border-radius: 0.25em;box-sizing: border-box;margin-bottom: 0.5em;}#sk-container-id-1 div.sk-estimator:hover {background-color: #d4ebff;}#sk-container-id-1 div.sk-parallel-item::after {content: \"\";width: 100%;border-bottom: 1px solid gray;flex-grow: 1;}#sk-container-id-1 div.sk-label:hover label.sk-toggleable__label {background-color: #d4ebff;}#sk-container-id-1 div.sk-serial::before {content: \"\";position: absolute;border-left: 1px solid gray;box-sizing: border-box;top: 0;bottom: 0;left: 50%;z-index: 0;}#sk-container-id-1 div.sk-serial {display: flex;flex-direction: column;align-items: center;background-color: white;padding-right: 0.2em;padding-left: 0.2em;position: relative;}#sk-container-id-1 div.sk-item {position: relative;z-index: 1;}#sk-container-id-1 div.sk-parallel {display: flex;align-items: stretch;justify-content: center;background-color: white;position: relative;}#sk-container-id-1 div.sk-item::before, #sk-container-id-1 div.sk-parallel-item::before {content: \"\";position: absolute;border-left: 1px solid gray;box-sizing: border-box;top: 0;bottom: 0;left: 50%;z-index: -1;}#sk-container-id-1 div.sk-parallel-item {display: flex;flex-direction: column;z-index: 1;position: relative;background-color: white;}#sk-container-id-1 div.sk-parallel-item:first-child::after {align-self: flex-end;width: 50%;}#sk-container-id-1 div.sk-parallel-item:last-child::after {align-self: flex-start;width: 50%;}#sk-container-id-1 div.sk-parallel-item:only-child::after {width: 0;}#sk-container-id-1 div.sk-dashed-wrapped {border: 1px dashed gray;margin: 0 0.4em 0.5em 0.4em;box-sizing: border-box;padding-bottom: 0.4em;background-color: white;}#sk-container-id-1 div.sk-label label {font-family: monospace;font-weight: bold;display: inline-block;line-height: 1.2em;}#sk-container-id-1 div.sk-label-container {text-align: center;}#sk-container-id-1 div.sk-container {/* jupyter's `normalize.less` sets `[hidden] { display: none; }` but bootstrap.min.css set `[hidden] { display: none !important; }` so we also need the `!important` here to be able to override the default hidden behavior on the sphinx rendered scikit-learn.org. See: https://github.com/scikit-learn/scikit-learn/issues/21755 */display: inline-block !important;position: relative;}#sk-container-id-1 div.sk-text-repr-fallback {display: none;}</style><div id=\"sk-container-id-1\" class=\"sk-top-container\"><div class=\"sk-text-repr-fallback\"><pre>SVC()</pre><b>In a Jupyter environment, please rerun this cell to show the HTML representation or trust the notebook. <br />On GitHub, the HTML representation is unable to render, please try loading this page with nbviewer.org.</b></div><div class=\"sk-container\" hidden><div class=\"sk-item\"><div class=\"sk-estimator sk-toggleable\"><input class=\"sk-toggleable__control sk-hidden--visually\" id=\"sk-estimator-id-1\" type=\"checkbox\" checked><label for=\"sk-estimator-id-1\" class=\"sk-toggleable__label sk-toggleable__label-arrow\">SVC</label><div class=\"sk-toggleable__content\"><pre>SVC()</pre></div></div></div></div></div>"
      ],
      "text/plain": [
       "SVC()"
      ]
     },
     "execution_count": 17,
     "metadata": {},
     "output_type": "execute_result"
    }
   ],
   "source": [
    "classifier.fit(X_train, y_train)"
   ]
  },
  {
   "cell_type": "code",
   "execution_count": 18,
   "id": "e5e5ca59-60cc-4114-a945-5c87b31d2102",
   "metadata": {
    "tags": []
   },
   "outputs": [
    {
     "data": {
      "text/plain": [
       "array([3, 6, 6, ..., 6, 0, 6], dtype=int64)"
      ]
     },
     "execution_count": 18,
     "metadata": {},
     "output_type": "execute_result"
    }
   ],
   "source": [
    "y_pred = classifier.predict(X_test)\n",
    "y_pred"
   ]
  },
  {
   "cell_type": "code",
   "execution_count": 19,
   "id": "99009f01-0261-4fec-8a99-97326b3f93ce",
   "metadata": {
    "tags": []
   },
   "outputs": [
    {
     "data": {
      "text/plain": [
       "(10000,)"
      ]
     },
     "execution_count": 19,
     "metadata": {},
     "output_type": "execute_result"
    }
   ],
   "source": [
    "y_pred.shape"
   ]
  },
  {
   "cell_type": "markdown",
   "id": "31ec65e9-1033-4f69-9845-6d21ccc11654",
   "metadata": {},
   "source": [
    "### Evaluamos el modelo de clasificacion"
   ]
  },
  {
   "cell_type": "code",
   "execution_count": 20,
   "id": "3a151235-4505-49d0-8846-6cdb9eb61392",
   "metadata": {
    "tags": []
   },
   "outputs": [
    {
     "name": "stdout",
     "output_type": "stream",
     "text": [
      "Resultados de evaluacion\n",
      "----------\n",
      "Accuracy: 0.5205\n",
      "F1-Score Macro: 0.4362\n"
     ]
    }
   ],
   "source": [
    "print(\"Resultados de evaluacion\")\n",
    "print(\"-\"*10)\n",
    "print(\"Accuracy: {:0.4f}\".format(accuracy_score(y_test, y_pred)))\n",
    "print(\"F1-Score Macro: {:0.4f}\".format(f1_score(y_test, y_pred, average='macro')))"
   ]
  },
  {
   "cell_type": "code",
   "execution_count": null,
   "id": "0c447b85-e81c-4b1b-815d-339e3f194dd0",
   "metadata": {},
   "outputs": [],
   "source": []
  }
 ],
 "metadata": {
  "kernelspec": {
   "display_name": "Python 3 (ipykernel)",
   "language": "python",
   "name": "python3"
  },
  "language_info": {
   "codemirror_mode": {
    "name": "ipython",
    "version": 3
   },
   "file_extension": ".py",
   "mimetype": "text/x-python",
   "name": "python",
   "nbconvert_exporter": "python",
   "pygments_lexer": "ipython3",
   "version": "3.10.11"
  }
 },
 "nbformat": 4,
 "nbformat_minor": 5
}
