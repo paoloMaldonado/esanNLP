{
 "cells": [
  {
   "cell_type": "markdown",
   "id": "287f989e-e4cd-4fee-94a8-c0c782cfbeef",
   "metadata": {},
   "source": [
    "## TF-IDF"
   ]
  },
  {
   "cell_type": "markdown",
   "id": "f0fd7f45-fcb4-4a22-abe0-794302c216fa",
   "metadata": {},
   "source": [
    "Importamos las librerias necesarias"
   ]
  },
  {
   "cell_type": "code",
   "execution_count": 1,
   "id": "ac4cb463-f766-4a77-a337-49d687201cb3",
   "metadata": {
    "tags": []
   },
   "outputs": [],
   "source": [
    "import pandas as pd\n",
    "import numpy as np\n",
    "from sklearn.feature_extraction.text import TfidfVectorizer"
   ]
  },
  {
   "cell_type": "markdown",
   "id": "1e17bc9f-2fda-40d1-bde6-d6a0b10dd72e",
   "metadata": {},
   "source": [
    "Corpus de prueba"
   ]
  },
  {
   "cell_type": "code",
   "execution_count": 2,
   "id": "ca336d2c-3b89-4499-9f90-a4ecd9f70a19",
   "metadata": {
    "tags": []
   },
   "outputs": [
    {
     "data": {
      "text/plain": [
       "['This is the first document.',\n",
       " 'This document is the second document.',\n",
       " 'And this is the third one.',\n",
       " 'Is this the first document?']"
      ]
     },
     "execution_count": 2,
     "metadata": {},
     "output_type": "execute_result"
    }
   ],
   "source": [
    "corpus = ['This is the first document.',\n",
    "          'This document is the second document.',\n",
    "          'And this is the third one.',\n",
    "          'Is this the first document?']\n",
    "\n",
    "corpus"
   ]
  },
  {
   "cell_type": "markdown",
   "id": "312dd32b-bd37-432f-af0e-e0b6db70ff97",
   "metadata": {},
   "source": [
    "Instanciamos la clase TfidfVectorizer()"
   ]
  },
  {
   "cell_type": "code",
   "execution_count": 3,
   "id": "46cbe21a-d462-4a38-ba98-8d394a1add6c",
   "metadata": {
    "tags": []
   },
   "outputs": [],
   "source": [
    "vectorizer = TfidfVectorizer()"
   ]
  },
  {
   "cell_type": "markdown",
   "id": "4e492ac9-2453-4019-9da1-bcf4aa6f4de0",
   "metadata": {},
   "source": [
    "Aplicamos el metodo fit (el algoritmo aplica TF-IDF a nuestro corpus)"
   ]
  },
  {
   "cell_type": "code",
   "execution_count": 4,
   "id": "1dbbfd42-a49d-475b-91cb-75a8ca2d99f5",
   "metadata": {
    "tags": []
   },
   "outputs": [
    {
     "data": {
      "text/plain": [
       "TfidfVectorizer()"
      ]
     },
     "execution_count": 4,
     "metadata": {},
     "output_type": "execute_result"
    }
   ],
   "source": [
    "vectorizer.fit(corpus)"
   ]
  },
  {
   "cell_type": "markdown",
   "id": "a3a8c810-52d2-436b-b7d8-c1fa66004611",
   "metadata": {},
   "source": [
    "Ahora que la instancia ya está entrenada con nuestro corpus, podemos transformar nuestro corpus en una matriz documento-termino usando el método transform()"
   ]
  },
  {
   "cell_type": "code",
   "execution_count": 5,
   "id": "868c3faf-1ffe-4c64-9e30-a9f65a16e616",
   "metadata": {
    "tags": []
   },
   "outputs": [],
   "source": [
    "doc_term_matrix = vectorizer.transform(corpus)"
   ]
  },
  {
   "cell_type": "code",
   "execution_count": 6,
   "id": "b0739ba8-38d9-4ed3-bcf9-8f88c46f5886",
   "metadata": {
    "tags": []
   },
   "outputs": [
    {
     "data": {
      "text/plain": [
       "(4, 9)"
      ]
     },
     "execution_count": 6,
     "metadata": {},
     "output_type": "execute_result"
    }
   ],
   "source": [
    "# tamaño de la matriz documento-termino\n",
    "doc_term_matrix.shape"
   ]
  },
  {
   "cell_type": "markdown",
   "id": "366c0364-7c38-4acb-b842-db8baba08f34",
   "metadata": {},
   "source": [
    "Imprimimos el vocabulario de terminos (9 terminos)"
   ]
  },
  {
   "cell_type": "code",
   "execution_count": 7,
   "id": "0fa9ba49-723d-4ab4-9eeb-bbbe5914a1fc",
   "metadata": {
    "tags": []
   },
   "outputs": [
    {
     "name": "stdout",
     "output_type": "stream",
     "text": [
      "['and' 'document' 'first' 'is' 'one' 'second' 'the' 'third' 'this']\n"
     ]
    }
   ],
   "source": [
    "vocabulary = vectorizer.get_feature_names_out()\n",
    "print(vocabulary)"
   ]
  },
  {
   "cell_type": "markdown",
   "id": "cf4ddd9d-0478-4ec4-b2f2-6f8dbee450ec",
   "metadata": {},
   "source": [
    "Matriz documento-termino de TF-IDF"
   ]
  },
  {
   "cell_type": "code",
   "execution_count": 8,
   "id": "7abd56c6-7234-4967-9e6b-e6add0f35574",
   "metadata": {
    "tags": []
   },
   "outputs": [
    {
     "data": {
      "text/plain": [
       "array([[0.        , 0.46979139, 0.58028582, 0.38408524, 0.        ,\n",
       "        0.        , 0.38408524, 0.        , 0.38408524],\n",
       "       [0.        , 0.6876236 , 0.        , 0.28108867, 0.        ,\n",
       "        0.53864762, 0.28108867, 0.        , 0.28108867],\n",
       "       [0.51184851, 0.        , 0.        , 0.26710379, 0.51184851,\n",
       "        0.        , 0.26710379, 0.51184851, 0.26710379],\n",
       "       [0.        , 0.46979139, 0.58028582, 0.38408524, 0.        ,\n",
       "        0.        , 0.38408524, 0.        , 0.38408524]])"
      ]
     },
     "execution_count": 8,
     "metadata": {},
     "output_type": "execute_result"
    }
   ],
   "source": [
    "doc_term_matrix.toarray()"
   ]
  },
  {
   "cell_type": "markdown",
   "id": "fabcb68a-1e38-4ebb-b1ba-83ea3d70a4c6",
   "metadata": {},
   "source": [
    "ej. el primer documento está representado por el vector:"
   ]
  },
  {
   "cell_type": "code",
   "execution_count": 9,
   "id": "82ae68b6-ae58-4f87-abb8-63c5086ce020",
   "metadata": {
    "tags": []
   },
   "outputs": [
    {
     "name": "stdout",
     "output_type": "stream",
     "text": [
      "[0.         0.46979139 0.58028582 0.38408524 0.         0.\n",
      " 0.38408524 0.         0.38408524]\n"
     ]
    }
   ],
   "source": [
    "print(doc_term_matrix.toarray()[0])"
   ]
  },
  {
   "cell_type": "markdown",
   "id": "066b2f25-eff8-478e-9f81-f800828746ce",
   "metadata": {},
   "source": [
    "Top de palabras acorde con el score de ponderacion idf"
   ]
  },
  {
   "cell_type": "code",
   "execution_count": 10,
   "id": "847d2c50-d2e1-410f-bce8-6dcbf826921d",
   "metadata": {
    "tags": []
   },
   "outputs": [],
   "source": [
    "def get_top_n(vectorizer, n):\n",
    "    weights = vectorizer.idf_\n",
    "    sorted_index_array = np.argsort(weights)\n",
    "    \n",
    "    sorted_weights = weights[sorted_index_array[-n:]]\n",
    "    sorted_vocabulary = vocabulary[sorted_index_array[-n:]]\n",
    "    \n",
    "    for word, idf in zip(sorted_vocabulary[::-1], sorted_weights[::-1]):\n",
    "        print(\"word: \"+word+\"\\t - idf score: \"+str(idf))"
   ]
  },
  {
   "cell_type": "code",
   "execution_count": 11,
   "id": "35a4341d-26b6-45fc-9b7c-6030385624be",
   "metadata": {
    "tags": []
   },
   "outputs": [
    {
     "name": "stdout",
     "output_type": "stream",
     "text": [
      "word: third\t - idf score: 1.916290731874155\n",
      "word: second\t - idf score: 1.916290731874155\n",
      "word: one\t - idf score: 1.916290731874155\n",
      "word: and\t - idf score: 1.916290731874155\n",
      "word: first\t - idf score: 1.5108256237659907\n",
      "word: document\t - idf score: 1.2231435513142097\n",
      "word: this\t - idf score: 1.0\n",
      "word: the\t - idf score: 1.0\n",
      "word: is\t - idf score: 1.0\n"
     ]
    }
   ],
   "source": [
    "get_top_n(vectorizer, 10)"
   ]
  },
  {
   "cell_type": "code",
   "execution_count": null,
   "id": "ae75c7a5-8e21-4423-80f0-edffb32d8df5",
   "metadata": {},
   "outputs": [],
   "source": []
  },
  {
   "cell_type": "code",
   "execution_count": 13,
   "id": "eddf251e-be14-4b48-b610-36982bc2fd2e",
   "metadata": {
    "tags": []
   },
   "outputs": [],
   "source": [
    "from sklearn.preprocessing import normalize"
   ]
  },
  {
   "cell_type": "code",
   "execution_count": 14,
   "id": "5a1fd334-a999-4392-b6be-9c5e72361229",
   "metadata": {
    "tags": []
   },
   "outputs": [],
   "source": [
    "doc_1 = np.array([0, 1, 1, 1, 0, 0, 1, 0, 1])\n",
    "idf_vector = vectorizer.idf_"
   ]
  },
  {
   "cell_type": "code",
   "execution_count": 15,
   "id": "f25cf52a-d283-43c0-8b6d-19e9b600d745",
   "metadata": {},
   "outputs": [
    {
     "data": {
      "text/plain": [
       "array([1.91629073, 1.22314355, 1.51082562, 1.        , 1.91629073,\n",
       "       1.91629073, 1.        , 1.91629073, 1.        ])"
      ]
     },
     "execution_count": 15,
     "metadata": {},
     "output_type": "execute_result"
    }
   ],
   "source": [
    "idf_vector"
   ]
  },
  {
   "cell_type": "code",
   "execution_count": 16,
   "id": "acbcabdd-5c5a-416f-8722-aa29874f5e1e",
   "metadata": {},
   "outputs": [
    {
     "data": {
      "text/plain": [
       "array([0.        , 1.22314355, 1.51082562, 1.        , 0.        ,\n",
       "       0.        , 1.        , 0.        , 1.        ])"
      ]
     },
     "execution_count": 16,
     "metadata": {},
     "output_type": "execute_result"
    }
   ],
   "source": [
    "tf_idf_doc_1 = doc_1 * idf_vector\n",
    "tf_idf_doc_1"
   ]
  },
  {
   "cell_type": "code",
   "execution_count": 17,
   "id": "97435379-b4d5-4514-bcf0-3aa463738924",
   "metadata": {
    "tags": []
   },
   "outputs": [
    {
     "data": {
      "text/plain": [
       "array([[0.        , 0.46979139, 0.58028582, 0.38408524, 0.        ,\n",
       "        0.        , 0.38408524, 0.        , 0.38408524]])"
      ]
     },
     "execution_count": 17,
     "metadata": {},
     "output_type": "execute_result"
    }
   ],
   "source": [
    "tf_idf_doc_1 = doc_1 * idf_vector\n",
    "normalize(tf_idf_doc_1.reshape(1, -1))"
   ]
  },
  {
   "cell_type": "code",
   "execution_count": null,
   "id": "566a8ebd-a4bb-4738-a3f4-48b86f404b95",
   "metadata": {},
   "outputs": [],
   "source": []
  }
 ],
 "metadata": {
  "kernelspec": {
   "display_name": "Python 3 (ipykernel)",
   "language": "python",
   "name": "python3"
  },
  "language_info": {
   "codemirror_mode": {
    "name": "ipython",
    "version": 3
   },
   "file_extension": ".py",
   "mimetype": "text/x-python",
   "name": "python",
   "nbconvert_exporter": "python",
   "pygments_lexer": "ipython3",
   "version": "3.9.7"
  }
 },
 "nbformat": 4,
 "nbformat_minor": 5
}
