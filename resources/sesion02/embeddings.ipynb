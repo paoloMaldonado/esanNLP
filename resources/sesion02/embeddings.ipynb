{
 "cells": [
  {
   "cell_type": "markdown",
   "id": "bed782e6-6991-4eea-901b-ab60997ee7e5",
   "metadata": {},
   "source": [
    "## Word Embeddings \n",
    "### Word2Vec y FastText"
   ]
  },
  {
   "cell_type": "markdown",
   "id": "c06c9831-4c07-4c93-b787-ef238460b153",
   "metadata": {},
   "source": [
    "Vamos a cargar las librerias necesarias"
   ]
  },
  {
   "cell_type": "code",
   "execution_count": 68,
   "id": "7484e9e2-ade2-4f24-a1ee-a3addb0082fa",
   "metadata": {
    "tags": []
   },
   "outputs": [],
   "source": [
    "from gensim.models import Word2Vec\n",
    "from gensim.models import FastText\n",
    "\n",
    "import numpy as np\n",
    "import pandas as pd"
   ]
  },
  {
   "cell_type": "markdown",
   "id": "f67cc7f7-5359-4450-9b2b-315ed2baf0b0",
   "metadata": {},
   "source": [
    "Cargamos la fuente de datos de prueba"
   ]
  },
  {
   "cell_type": "code",
   "execution_count": 2,
   "id": "96e55bb7-ff97-465e-9e27-fa34c887273c",
   "metadata": {
    "tags": []
   },
   "outputs": [],
   "source": [
    "df = pd.read_pickle('data/confesiones.df')\n",
    "df = df[['Text', 'no_stopwords', 'token_sentence']]"
   ]
  },
  {
   "cell_type": "code",
   "execution_count": 3,
   "id": "b5d9536f-6eab-4719-b7a8-0bf7ef01fee9",
   "metadata": {
    "tags": []
   },
   "outputs": [
    {
     "data": {
      "text/html": [
       "<div>\n",
       "<style scoped>\n",
       "    .dataframe tbody tr th:only-of-type {\n",
       "        vertical-align: middle;\n",
       "    }\n",
       "\n",
       "    .dataframe tbody tr th {\n",
       "        vertical-align: top;\n",
       "    }\n",
       "\n",
       "    .dataframe thead th {\n",
       "        text-align: right;\n",
       "    }\n",
       "</style>\n",
       "<table border=\"1\" class=\"dataframe\">\n",
       "  <thead>\n",
       "    <tr style=\"text-align: right;\">\n",
       "      <th></th>\n",
       "      <th>Text</th>\n",
       "      <th>no_stopwords</th>\n",
       "      <th>token_sentence</th>\n",
       "    </tr>\n",
       "  </thead>\n",
       "  <tbody>\n",
       "    <tr>\n",
       "      <th>780</th>\n",
       "      <td>Hola venado cachudo, está es mi historia... vo...</td>\n",
       "      <td>[cachudo, historia, volvi, conversar, conoci, ...</td>\n",
       "      <td>cachudo historia volvi conversar conoci colegi...</td>\n",
       "    </tr>\n",
       "    <tr>\n",
       "      <th>6253</th>\n",
       "      <td>¡Hola tío confe! La verdad estoy muy indignado...</td>\n",
       "      <td>[verdad, indignado, pasando, debido, caso, pla...</td>\n",
       "      <td>verdad indignado pasando debido caso plagio co...</td>\n",
       "    </tr>\n",
       "    <tr>\n",
       "      <th>2594</th>\n",
       "      <td>5133 Tío confe , hola jajaa bien no sé cómo ra...</td>\n",
       "      <td>[rayos, empezar, paso, aqui, enamore, pata, in...</td>\n",
       "      <td>rayos empezar paso aqui enamore pata ingenieri...</td>\n",
       "    </tr>\n",
       "    <tr>\n",
       "      <th>6965</th>\n",
       "      <td>Hola! Estudio contabilidad en la Universidad d...</td>\n",
       "      <td>[estudio, contabilidad, lima, pienso, cambiarm...</td>\n",
       "      <td>estudio contabilidad lima pienso cambiarme sig...</td>\n",
       "    </tr>\n",
       "    <tr>\n",
       "      <th>4538</th>\n",
       "      <td>holi perrovaquita xd Waoooo no hago un confe d...</td>\n",
       "      <td>[perrovaquita, wao, hago, años, extraño, softw...</td>\n",
       "      <td>perrovaquita wao hago años extraño software es...</td>\n",
       "    </tr>\n",
       "  </tbody>\n",
       "</table>\n",
       "</div>"
      ],
      "text/plain": [
       "                                                   Text  \\\n",
       "780   Hola venado cachudo, está es mi historia... vo...   \n",
       "6253  ¡Hola tío confe! La verdad estoy muy indignado...   \n",
       "2594  5133 Tío confe , hola jajaa bien no sé cómo ra...   \n",
       "6965  Hola! Estudio contabilidad en la Universidad d...   \n",
       "4538  holi perrovaquita xd Waoooo no hago un confe d...   \n",
       "\n",
       "                                           no_stopwords  \\\n",
       "780   [cachudo, historia, volvi, conversar, conoci, ...   \n",
       "6253  [verdad, indignado, pasando, debido, caso, pla...   \n",
       "2594  [rayos, empezar, paso, aqui, enamore, pata, in...   \n",
       "6965  [estudio, contabilidad, lima, pienso, cambiarm...   \n",
       "4538  [perrovaquita, wao, hago, años, extraño, softw...   \n",
       "\n",
       "                                         token_sentence  \n",
       "780   cachudo historia volvi conversar conoci colegi...  \n",
       "6253  verdad indignado pasando debido caso plagio co...  \n",
       "2594  rayos empezar paso aqui enamore pata ingenieri...  \n",
       "6965  estudio contabilidad lima pienso cambiarme sig...  \n",
       "4538  perrovaquita wao hago años extraño software es...  "
      ]
     },
     "execution_count": 3,
     "metadata": {},
     "output_type": "execute_result"
    }
   ],
   "source": [
    "df.sample(5)"
   ]
  },
  {
   "cell_type": "markdown",
   "id": "3b94d3ff-c7cc-4a44-b19f-165951a82621",
   "metadata": {},
   "source": [
    "Definimos nuestro corpus"
   ]
  },
  {
   "cell_type": "code",
   "execution_count": 4,
   "id": "8bda64ec-75ff-4898-a335-9a790df1dc70",
   "metadata": {
    "tags": []
   },
   "outputs": [],
   "source": [
    "corpus = df.no_stopwords.to_list()"
   ]
  },
  {
   "cell_type": "code",
   "execution_count": 5,
   "id": "a951aade-c76e-477f-9156-94c5fc7cc713",
   "metadata": {
    "tags": []
   },
   "outputs": [
    {
     "data": {
      "text/plain": [
       "[['gustan',\n",
       "  'monedas',\n",
       "  'plata',\n",
       "  'conseguir',\n",
       "  'catolica',\n",
       "  'vendan',\n",
       "  'monedas',\n",
       "  'denle',\n",
       "  'encorazona',\n",
       "  'igual'],\n",
       " ['consulta',\n",
       "  'ver',\n",
       "  'publicas',\n",
       "  'uu',\n",
       "  'porfis',\n",
       "  'posibilidad',\n",
       "  'ir',\n",
       "  'intercambio',\n",
       "  'sali',\n",
       "  'aceptada',\n",
       "  'hablando',\n",
       "  'padres',\n",
       "  'podrian',\n",
       "  'costearlo',\n",
       "  'cuestion',\n",
       "  'demasiado',\n",
       "  'dinero',\n",
       "  'vale',\n",
       "  'pena',\n",
       "  'experiencia',\n",
       "  'campo',\n",
       "  'laboral',\n",
       "  'regresas',\n",
       "  'posiciona',\n",
       "  'pais',\n",
       "  'iria',\n",
       "  'europa',\n",
       "  'habla',\n",
       "  'español',\n",
       "  'ingles',\n",
       "  'sume',\n",
       "  'espero',\n",
       "  'pasen',\n",
       "  'buenas',\n",
       "  'fiestas',\n",
       "  'agradezco',\n",
       "  'respuestas']]"
      ]
     },
     "execution_count": 5,
     "metadata": {},
     "output_type": "execute_result"
    }
   ],
   "source": [
    "corpus[5:7]"
   ]
  },
  {
   "cell_type": "markdown",
   "id": "08a2dfe9-2b9e-4eca-a021-9188f001b6f6",
   "metadata": {},
   "source": [
    "**Word2Vec Skipgram con Negative Sampling**"
   ]
  },
  {
   "cell_type": "markdown",
   "id": "71865b8c-137b-4ed1-8d14-3c75f5643a7e",
   "metadata": {},
   "source": [
    "Creamos una instancia de word2vec"
   ]
  },
  {
   "cell_type": "code",
   "execution_count": 6,
   "id": "dbe1c525-1763-4d8e-b298-034dd46bbdee",
   "metadata": {
    "tags": []
   },
   "outputs": [],
   "source": [
    "word2vec = Word2Vec(vector_size=100, # dimension del embedding\n",
    "                    window=5,        # 5 context words \n",
    "                    sg=1,            # skipgram\n",
    "                    negative=5,      # negative samples\n",
    "                    min_count=1,     # considera a todo el vocabulario\n",
    "                    workers=4)       # numero de threads (paralelismo)"
   ]
  },
  {
   "cell_type": "markdown",
   "id": "f5bcfab4-4946-41ef-86a1-3dc21438fbe9",
   "metadata": {},
   "source": [
    "Construimos el vocabulario para el modelo"
   ]
  },
  {
   "cell_type": "code",
   "execution_count": 7,
   "id": "136e4e90-58ff-4197-a144-3396159d546e",
   "metadata": {
    "tags": []
   },
   "outputs": [],
   "source": [
    "word2vec.build_vocab(corpus)"
   ]
  },
  {
   "cell_type": "markdown",
   "id": "ddfcb3a7-860b-40d0-9f49-b1e4a425980f",
   "metadata": {},
   "source": [
    "Entrenamos el modelo con el vocabulario"
   ]
  },
  {
   "cell_type": "code",
   "execution_count": 8,
   "id": "a095f499-6f14-42fb-8139-8a172bae9cbf",
   "metadata": {
    "tags": []
   },
   "outputs": [
    {
     "data": {
      "text/plain": [
       "(1398545, 1405445)"
      ]
     },
     "execution_count": 8,
     "metadata": {},
     "output_type": "execute_result"
    }
   ],
   "source": [
    "word2vec.train(corpus, total_examples=word2vec.corpus_count, epochs=word2vec.epochs)"
   ]
  },
  {
   "cell_type": "markdown",
   "id": "325f0e46-d15f-4985-92ca-83909a9f8d9c",
   "metadata": {},
   "source": [
    "Cuando terminemos de entrenar el modelo, lo ideal es eliminarlo para que no ocupe espacio innecesario en la RAM, solo nos quedamos con la instancia KeyedVector que contiene un diccionario {palabra:embedding}"
   ]
  },
  {
   "cell_type": "code",
   "execution_count": 9,
   "id": "4892a9a5-c1f4-44ec-98bc-e4a22d2d1aa6",
   "metadata": {
    "tags": []
   },
   "outputs": [],
   "source": [
    "key_model = word2vec.wv"
   ]
  },
  {
   "cell_type": "code",
   "execution_count": 10,
   "id": "97bba769-0486-4d16-96b5-861538ce1827",
   "metadata": {
    "tags": []
   },
   "outputs": [],
   "source": [
    "del word2vec"
   ]
  },
  {
   "cell_type": "markdown",
   "id": "1fad558a-5549-470f-95fe-2bf17b2cd4a8",
   "metadata": {},
   "source": [
    "Verificamos las palabras fuera de vocabulario"
   ]
  },
  {
   "cell_type": "code",
   "execution_count": 12,
   "id": "f2f9d473-52eb-49cc-a6a9-5534ba9c8ea8",
   "metadata": {
    "tags": []
   },
   "outputs": [],
   "source": [
    "def verificar_OOV(palabra, embedding):\n",
    "    if palabra in embedding:\n",
    "        print(\"existe\")\n",
    "    else:\n",
    "        print(\"OOV\")"
   ]
  },
  {
   "cell_type": "code",
   "execution_count": 19,
   "id": "6e48b604-c90b-4062-882e-aef6dd50bb76",
   "metadata": {
    "tags": []
   },
   "outputs": [
    {
     "name": "stdout",
     "output_type": "stream",
     "text": [
      "existe\n"
     ]
    }
   ],
   "source": [
    "verificar_OOV(\"humano\", key_model)"
   ]
  },
  {
   "cell_type": "code",
   "execution_count": 16,
   "id": "b8b41848-9480-4b3d-8d5c-b5ba40d2ce32",
   "metadata": {
    "tags": []
   },
   "outputs": [
    {
     "name": "stdout",
     "output_type": "stream",
     "text": [
      "OOV\n"
     ]
    }
   ],
   "source": [
    "verificar_OOV(\"abcde\", key_model)"
   ]
  },
  {
   "cell_type": "markdown",
   "id": "b46e1a45-59fb-4c36-a5bc-e9af85c33847",
   "metadata": {},
   "source": [
    "Representación vectorial para la palabra \"human\""
   ]
  },
  {
   "cell_type": "code",
   "execution_count": 34,
   "id": "a2fe5105-28f5-4668-9d72-a99cb831acb5",
   "metadata": {
    "tags": []
   },
   "outputs": [
    {
     "name": "stdout",
     "output_type": "stream",
     "text": [
      "[-0.2390047   0.29652548 -0.03869939  0.0491403   0.11378825 -0.49919015\n",
      "  0.07133853  0.5687842  -0.21554929 -0.10956714 -0.2092009  -0.42416403\n",
      "  0.11806712  0.40812877  0.32723984 -0.25870752 -0.04779321 -0.14878425\n",
      "  0.1385481  -0.45617947  0.12299144 -0.06781757 -0.01403688 -0.11016196\n",
      " -0.13268118  0.2373916  -0.2649964   0.09688468 -0.07709549 -0.09410274\n",
      "  0.14331028  0.07923035  0.09977055 -0.05100177 -0.08609331  0.27598578\n",
      "  0.0058547   0.04817837 -0.3181799  -0.10952939  0.176932   -0.5109165\n",
      " -0.25085354  0.30111203  0.10216925 -0.2056061  -0.03133236 -0.1996022\n",
      " -0.00935877 -0.04443126  0.1673057  -0.21359764 -0.00456343  0.08677194\n",
      "  0.1798133   0.27755877 -0.00388626  0.14213505 -0.37570733  0.09470231\n",
      "  0.03128951 -0.04911314 -0.13228008 -0.08324295 -0.2469396   0.24066824\n",
      "  0.02542163  0.22501263 -0.20171563  0.3939298  -0.4522092  -0.00246767\n",
      "  0.15539712 -0.24458495  0.34821635  0.2877434  -0.17087355 -0.01864116\n",
      " -0.21716693  0.06055283 -0.3304058   0.1009806  -0.3553134   0.42464855\n",
      " -0.22864796  0.17141372  0.11306383  0.23703203  0.47063416  0.08412793\n",
      "  0.4595361  -0.07886382 -0.13998935  0.12957102  0.35622898  0.33965108\n",
      "  0.1051814   0.09457791  0.10206968 -0.00575834]\n"
     ]
    }
   ],
   "source": [
    "pandemia_vector = key_model[\"pandemia\"]\n",
    "print(pandemia_vector)"
   ]
  },
  {
   "cell_type": "markdown",
   "id": "518a0645-ec73-4581-a08b-d6f0e59f8b57",
   "metadata": {},
   "source": [
    "Longitud del vector \"pandemia\""
   ]
  },
  {
   "cell_type": "code",
   "execution_count": 43,
   "id": "5dce7800-e721-40e1-a497-19b91e287772",
   "metadata": {
    "tags": []
   },
   "outputs": [
    {
     "data": {
      "text/plain": [
       "2.295185530738878"
      ]
     },
     "execution_count": 43,
     "metadata": {},
     "output_type": "execute_result"
    }
   ],
   "source": [
    "sum(pandemia_vector*pandemia_vector)**0.5"
   ]
  },
  {
   "cell_type": "code",
   "execution_count": 35,
   "id": "40cf4e88-1a83-4df1-a9ff-58cd98f3af51",
   "metadata": {
    "tags": []
   },
   "outputs": [
    {
     "data": {
      "text/plain": [
       "(100,)"
      ]
     },
     "execution_count": 35,
     "metadata": {},
     "output_type": "execute_result"
    }
   ],
   "source": [
    "pandemia_vector.shape"
   ]
  },
  {
   "cell_type": "code",
   "execution_count": 36,
   "id": "2c5e9956-1140-41c9-b031-ef3143854c46",
   "metadata": {
    "tags": []
   },
   "outputs": [
    {
     "data": {
      "text/plain": [
       "[('debido', 0.9701520800590515),\n",
       " ('crisis', 0.9429941773414612),\n",
       " ('economicos', 0.9338640570640564),\n",
       " ('covid', 0.9330642223358154),\n",
       " ('trabajando', 0.9285545349121094),\n",
       " ('iniciar', 0.9205121994018555),\n",
       " ('motivos', 0.9191024899482727),\n",
       " ('comunicacion', 0.9181717038154602),\n",
       " ('vacaciones', 0.9164676070213318),\n",
       " ('familiares', 0.9151014089584351)]"
      ]
     },
     "execution_count": 36,
     "metadata": {},
     "output_type": "execute_result"
    }
   ],
   "source": [
    "key_model.most_similar([\"pandemia\"])"
   ]
  },
  {
   "cell_type": "markdown",
   "id": "1eb478d2-15d0-40e4-99a4-050b59187603",
   "metadata": {},
   "source": [
    "Obtener la representacion vectorial de un documento"
   ]
  },
  {
   "cell_type": "code",
   "execution_count": 46,
   "id": "a34a9944-953e-4b78-80d4-5076de8a6478",
   "metadata": {},
   "outputs": [
    {
     "data": {
      "text/plain": [
       "array([[-0.17904632,  0.19197476,  0.02264021, -0.01356796,  0.15642785,\n",
       "        -0.38012156,  0.00779457,  0.47159195, -0.09319825, -0.00105666,\n",
       "        -0.16929497, -0.32610455, -0.00511496,  0.29634   ,  0.24495059,\n",
       "        -0.18867934, -0.08726405, -0.21613845,  0.07010417, -0.42640716,\n",
       "         0.09098908, -0.03896779,  0.11095868, -0.12291662, -0.06855084,\n",
       "         0.1492431 , -0.08804021,  0.01088107, -0.14334513, -0.07146288,\n",
       "         0.23652881,  0.06765001,  0.07744748, -0.17819698, -0.0790666 ,\n",
       "         0.14328305, -0.04333408, -0.11646359, -0.1688872 , -0.20693003,\n",
       "        -0.01875087, -0.36640525, -0.24572599,  0.23690863,  0.1995254 ,\n",
       "        -0.20372383, -0.06515097, -0.14332515, -0.00433778,  0.01963469,\n",
       "         0.0967778 , -0.33601883, -0.14257069,  0.0955412 ,  0.03433375,\n",
       "         0.238643  ,  0.06594518,  0.13286377, -0.38755047,  0.08264332,\n",
       "        -0.0117006 ,  0.00959196, -0.1851691 ,  0.01218765, -0.22720027,\n",
       "         0.16809678,  0.01827211,  0.02882191, -0.17828287,  0.26868623,\n",
       "        -0.45282304, -0.08201653,  0.05629107, -0.2706749 ,  0.30296907,\n",
       "         0.19153203, -0.16145816, -0.12689161, -0.24346597,  0.11102961,\n",
       "        -0.28052506,  0.07819737, -0.2353125 ,  0.45246807, -0.186934  ,\n",
       "         0.11213928,  0.01957262,  0.3229895 ,  0.34989983,  0.15047246,\n",
       "         0.42877916,  0.00831895, -0.06210933,  0.1896983 ,  0.34901005,\n",
       "         0.28097472,  0.12111048, -0.04468645, -0.02933183,  0.0495727 ],\n",
       "       [-0.2390047 ,  0.29652548, -0.03869939,  0.0491403 ,  0.11378825,\n",
       "        -0.49919015,  0.07133853,  0.5687842 , -0.21554929, -0.10956714,\n",
       "        -0.2092009 , -0.42416403,  0.11806712,  0.40812877,  0.32723984,\n",
       "        -0.25870752, -0.04779321, -0.14878425,  0.1385481 , -0.45617947,\n",
       "         0.12299144, -0.06781757, -0.01403688, -0.11016196, -0.13268118,\n",
       "         0.2373916 , -0.2649964 ,  0.09688468, -0.07709549, -0.09410274,\n",
       "         0.14331028,  0.07923035,  0.09977055, -0.05100177, -0.08609331,\n",
       "         0.27598578,  0.0058547 ,  0.04817837, -0.3181799 , -0.10952939,\n",
       "         0.176932  , -0.5109165 , -0.25085354,  0.30111203,  0.10216925,\n",
       "        -0.2056061 , -0.03133236, -0.1996022 , -0.00935877, -0.04443126,\n",
       "         0.1673057 , -0.21359764, -0.00456343,  0.08677194,  0.1798133 ,\n",
       "         0.27755877, -0.00388626,  0.14213505, -0.37570733,  0.09470231,\n",
       "         0.03128951, -0.04911314, -0.13228008, -0.08324295, -0.2469396 ,\n",
       "         0.24066824,  0.02542163,  0.22501263, -0.20171563,  0.3939298 ,\n",
       "        -0.4522092 , -0.00246767,  0.15539712, -0.24458495,  0.34821635,\n",
       "         0.2877434 , -0.17087355, -0.01864116, -0.21716693,  0.06055283,\n",
       "        -0.3304058 ,  0.1009806 , -0.3553134 ,  0.42464855, -0.22864796,\n",
       "         0.17141372,  0.11306383,  0.23703203,  0.47063416,  0.08412793,\n",
       "         0.4595361 , -0.07886382, -0.13998935,  0.12957102,  0.35622898,\n",
       "         0.33965108,  0.1051814 ,  0.09457791,  0.10206968, -0.00575834]],\n",
       "      dtype=float32)"
      ]
     },
     "execution_count": 46,
     "metadata": {},
     "output_type": "execute_result"
    }
   ],
   "source": [
    "# un documento tokenizado puede ser representado como una matriz de embededings, \n",
    "# en este caso, el documento \"covid pandemia\"\n",
    "key_model[['covid', 'pandemia']]"
   ]
  },
  {
   "cell_type": "markdown",
   "id": "c78695ec-711a-471c-9eec-4c5ca8439abc",
   "metadata": {},
   "source": [
    "Sin embargo, para modelos de machine learning esto no es optimo ya que estos modelos aceptan como input, un vector y **no** una matriz"
   ]
  },
  {
   "cell_type": "markdown",
   "id": "35d18dc3-f00d-4e1d-bd33-8d8c859a2192",
   "metadata": {},
   "source": [
    "Es posible promediar todos los embeddings que representan a un solo documento, de esta forma obtenemos una representacion vectorial del documento. Vamos a crear una funcion para ello:"
   ]
  },
  {
   "cell_type": "code",
   "execution_count": 48,
   "id": "2ad75021-8437-403b-b063-8ea760c7eb86",
   "metadata": {
    "tags": []
   },
   "outputs": [],
   "source": [
    "def get_sentence_vector(word_vectors, tokenized_document):\n",
    "    doc = [word for word in tokenized_document if word in word_vectors]\n",
    "    if len(doc) > 0:\n",
    "        return np.mean(word_vectors[doc], axis=0)  # normalize vector before averaging\n",
    "    else:\n",
    "        return None"
   ]
  },
  {
   "cell_type": "code",
   "execution_count": 59,
   "id": "9281bb73-53e2-4c5e-b33c-d6dc157b186f",
   "metadata": {
    "tags": []
   },
   "outputs": [
    {
     "name": "stdout",
     "output_type": "stream",
     "text": [
      "['puedes', 'preguntar', 'fans', 'probabilidad', 'halla', 'clases', 'presenciales', 'proximo', 'ciclo', 'posible', 'llevar', 'presenciales', 'virtuales', 'cierto', 'real', 'verdad', 'manejando', 'tipo', 'paginas']\n"
     ]
    }
   ],
   "source": [
    "print(corpus[125])"
   ]
  },
  {
   "cell_type": "code",
   "execution_count": 60,
   "id": "f84b898d-660f-4461-bb17-8c111755343b",
   "metadata": {
    "tags": []
   },
   "outputs": [
    {
     "data": {
      "text/plain": [
       "array([-0.09966843,  0.2983563 , -0.07314879,  0.06365222,  0.14246635,\n",
       "       -0.37941924,  0.17477052,  0.6202089 , -0.17701139, -0.13235344,\n",
       "       -0.17335267, -0.4220199 ,  0.09172118,  0.22594891,  0.24485126,\n",
       "       -0.20388265,  0.14098224, -0.26175854,  0.13703208, -0.54886067,\n",
       "        0.2382588 ,  0.03613375,  0.07093573, -0.2529772 , -0.20025186,\n",
       "        0.08944787, -0.22051959, -0.1434103 , -0.11874307,  0.07474812,\n",
       "        0.1711025 , -0.08759552,  0.03388444, -0.15765117, -0.11169514,\n",
       "        0.33900627,  0.03338052,  0.09719645, -0.13137884, -0.27516124,\n",
       "        0.04333494, -0.48839444, -0.1546015 ,  0.19651513,  0.1503721 ,\n",
       "       -0.04194989, -0.11110803, -0.20310472,  0.09437621,  0.18277337,\n",
       "        0.13614722, -0.2061509 , -0.0334821 ,  0.09659825,  0.04367841,\n",
       "        0.13911146,  0.14986786,  0.07076327, -0.44449526,  0.13459106,\n",
       "        0.00289829,  0.08915915, -0.01121171, -0.05578618, -0.24106008,\n",
       "        0.23559548,  0.06822045,  0.21339028, -0.12098318,  0.23394698,\n",
       "       -0.20472905,  0.03018092,  0.34115168, -0.03037526,  0.2344386 ,\n",
       "       -0.05779529, -0.09746189, -0.04938036, -0.18662353,  0.03264323,\n",
       "       -0.13413675,  0.1623763 , -0.30159473,  0.36141244, -0.07660788,\n",
       "        0.0542172 ,  0.11018383,  0.25002593,  0.4237418 , -0.00464385,\n",
       "        0.36357722,  0.14715803,  0.06168746,  0.12520209,  0.41066703,\n",
       "        0.22743933, -0.00419392, -0.16664244,  0.02532512, -0.06949475],\n",
       "      dtype=float32)"
      ]
     },
     "execution_count": 60,
     "metadata": {},
     "output_type": "execute_result"
    }
   ],
   "source": [
    "get_sentence_vector(key_model, corpus[125])"
   ]
  },
  {
   "cell_type": "markdown",
   "id": "95497b7a-66ee-4e13-a698-dfe847dd2ff7",
   "metadata": {},
   "source": [
    "Si queremos obtener la matriz de datos de entrada (donde cada fila representa a un documento) para poder entrenar un modelo de Machine Learning, usamos la siguiente funcion"
   ]
  },
  {
   "cell_type": "code",
   "execution_count": 61,
   "id": "011b3815-5cc3-4a7d-9749-558896079431",
   "metadata": {
    "tags": []
   },
   "outputs": [],
   "source": [
    "def get_matrix_features(tokenized_documents, word_vectors):\n",
    "    X = [dv for doc in tokenized_documents if (dv := get_sentence_vector(word_vectors, doc)) is not None]\n",
    "    X = np.asarray(X)\n",
    "    return X"
   ]
  },
  {
   "cell_type": "code",
   "execution_count": 63,
   "id": "46d8f4fb-89b0-4c63-8844-3ac72bfb6538",
   "metadata": {
    "tags": []
   },
   "outputs": [
    {
     "data": {
      "text/plain": [
       "array([[-0.03438928,  0.17347874, -0.09558075, ..., -0.13287136,\n",
       "         0.08594537,  0.06277625],\n",
       "       [-0.05179014,  0.16660129, -0.01314778, ..., -0.11870394,\n",
       "         0.07152622, -0.008335  ],\n",
       "       [-0.01738044,  0.18657194, -0.15941274, ..., -0.20389093,\n",
       "         0.03129928, -0.00515905],\n",
       "       ...,\n",
       "       [-0.05397575,  0.10478994, -0.14192767, ..., -0.04172281,\n",
       "         0.20646419,  0.11925217],\n",
       "       [-0.06310783,  0.16798544, -0.03263178, ..., -0.10025916,\n",
       "         0.07750864,  0.06027355],\n",
       "       [-0.14128111,  0.25246173, -0.06332291, ..., -0.03357408,\n",
       "         0.17202091,  0.02856389]], dtype=float32)"
      ]
     },
     "execution_count": 63,
     "metadata": {},
     "output_type": "execute_result"
    }
   ],
   "source": [
    "X = get_matrix_features(corpus, key_model)\n",
    "X"
   ]
  },
  {
   "cell_type": "code",
   "execution_count": 64,
   "id": "ce3be568-957d-4ba5-8dc6-ca428cc0476d",
   "metadata": {
    "tags": []
   },
   "outputs": [
    {
     "data": {
      "text/plain": [
       "(7622, 100)"
      ]
     },
     "execution_count": 64,
     "metadata": {},
     "output_type": "execute_result"
    }
   ],
   "source": [
    "X.shape"
   ]
  },
  {
   "cell_type": "code",
   "execution_count": 66,
   "id": "244b2a9b-65c6-417c-b3a2-de6fa49d883f",
   "metadata": {
    "tags": []
   },
   "outputs": [
    {
     "data": {
      "text/plain": [
       "7622"
      ]
     },
     "execution_count": 66,
     "metadata": {},
     "output_type": "execute_result"
    }
   ],
   "source": [
    "len(X)  # cantidad de documentos en el corpus"
   ]
  },
  {
   "cell_type": "markdown",
   "id": "83d942bc-fa6a-496f-bbbb-3e94f4e197e4",
   "metadata": {},
   "source": [
    "----"
   ]
  },
  {
   "cell_type": "markdown",
   "id": "fe4dcaff-4339-4068-930e-bf548a126fe5",
   "metadata": {},
   "source": [
    "**FastText Skipgram con Negative Sampling**"
   ]
  },
  {
   "cell_type": "markdown",
   "id": "8ee08034-79ae-45da-8321-4b807f487a62",
   "metadata": {},
   "source": [
    "Creamos una instancia de FastText"
   ]
  },
  {
   "cell_type": "code",
   "execution_count": 69,
   "id": "146425a7-b811-495d-9927-94d8802d8439",
   "metadata": {
    "tags": []
   },
   "outputs": [],
   "source": [
    "fasttext = FastText(vector_size=100, # dimension del embedding\n",
    "                    window=5,        # 5 context words \n",
    "                    sg=1,            # skipgram\n",
    "                    negative=5,      # negative samples\n",
    "                    min_count=1,     # considera a todo el vocabulario\n",
    "                    workers=4)       # numero de threads (paralelismo)"
   ]
  },
  {
   "cell_type": "markdown",
   "id": "c44df385-6f1a-4818-94c9-4f9a16fceafa",
   "metadata": {},
   "source": [
    "Construimos el vocabulario para el modelo"
   ]
  },
  {
   "cell_type": "code",
   "execution_count": 70,
   "id": "87682a6d-38eb-457f-a15f-14c845a871ff",
   "metadata": {
    "tags": []
   },
   "outputs": [],
   "source": [
    "fasttext.build_vocab(corpus)"
   ]
  },
  {
   "cell_type": "markdown",
   "id": "8d1c2384-bbfb-4e6a-b123-4f16ec8ffc6d",
   "metadata": {},
   "source": [
    "Entrenamos el modelo con el vocabulario"
   ]
  },
  {
   "cell_type": "code",
   "execution_count": 72,
   "id": "3f9f8636-a051-48ab-9574-64e023b06f04",
   "metadata": {
    "tags": []
   },
   "outputs": [
    {
     "data": {
      "text/plain": [
       "(1398465, 1405445)"
      ]
     },
     "execution_count": 72,
     "metadata": {},
     "output_type": "execute_result"
    }
   ],
   "source": [
    "fasttext.train(corpus, total_examples=fasttext.corpus_count, epochs=fasttext.epochs)"
   ]
  },
  {
   "cell_type": "markdown",
   "id": "f459af7b-916e-4931-954d-99d696757f9c",
   "metadata": {},
   "source": [
    "Cuando terminemos de entrenar el modelo, lo ideal es eliminarlo para que no ocupe espacio innecesario en la RAM, solo nos quedamos con la instancia KeyedVector que contiene un diccionario {palabra:embedding}"
   ]
  },
  {
   "cell_type": "code",
   "execution_count": 73,
   "id": "05505ade-2c9f-484b-a24c-773b9e61508f",
   "metadata": {
    "tags": []
   },
   "outputs": [],
   "source": [
    "key_model = fasttext.wv"
   ]
  },
  {
   "cell_type": "code",
   "execution_count": 74,
   "id": "494dc8d0-0b43-45b3-ac5f-b64e64f3ec05",
   "metadata": {
    "tags": []
   },
   "outputs": [],
   "source": [
    "del fasttext"
   ]
  },
  {
   "cell_type": "markdown",
   "id": "9a63b7ef-9efe-4875-98f2-2d03695065d3",
   "metadata": {},
   "source": [
    "Verificamos las palabras fuera de vocabulario"
   ]
  },
  {
   "cell_type": "code",
   "execution_count": 75,
   "id": "f220b241-1126-42c6-b88f-aaed1af10707",
   "metadata": {
    "tags": []
   },
   "outputs": [],
   "source": [
    "def verificar_OOV(palabra, embedding):\n",
    "    if palabra in embedding:\n",
    "        print(\"existe\")\n",
    "    else:\n",
    "        print(\"OOV\")"
   ]
  },
  {
   "cell_type": "code",
   "execution_count": 76,
   "id": "4ed2aebf-57cf-4efe-b18d-68eb73e643c3",
   "metadata": {
    "tags": []
   },
   "outputs": [
    {
     "name": "stdout",
     "output_type": "stream",
     "text": [
      "existe\n"
     ]
    }
   ],
   "source": [
    "verificar_OOV(\"humano\", key_model)"
   ]
  },
  {
   "cell_type": "code",
   "execution_count": 77,
   "id": "9e60c9f1-9638-46dc-8fcb-08d3965b9381",
   "metadata": {
    "tags": []
   },
   "outputs": [
    {
     "name": "stdout",
     "output_type": "stream",
     "text": [
      "existe\n"
     ]
    }
   ],
   "source": [
    "verificar_OOV(\"abcde\", key_model)"
   ]
  },
  {
   "cell_type": "markdown",
   "id": "23f534e9-9dad-471e-8c69-b65de9acbd18",
   "metadata": {},
   "source": [
    "Representación vectorial para la palabra \"human\""
   ]
  },
  {
   "cell_type": "code",
   "execution_count": 78,
   "id": "0faad681-99c1-425f-8180-40bb6de38b47",
   "metadata": {
    "tags": []
   },
   "outputs": [
    {
     "name": "stdout",
     "output_type": "stream",
     "text": [
      "[-0.47535917  0.4469425  -0.08889992  0.4525141   0.47795844 -0.24794318\n",
      "  0.16550289 -0.03592255  0.25135943 -0.43389696  0.27088374 -0.281261\n",
      " -0.20038722  0.22962731 -0.6397624   0.06929249  0.06661253  0.2604368\n",
      " -0.6017789  -0.4097073  -0.342086   -0.01715344 -0.46508548 -0.14563188\n",
      " -0.11072055 -0.1546572  -0.13298689 -0.21401045 -0.03844127  0.18706389\n",
      "  0.10245904 -0.06149973  0.12074273  0.07830574 -0.32698956  0.07109768\n",
      "  0.19077575 -0.17564686 -0.06366107 -0.65924186  0.36575025 -0.28583434\n",
      "  0.02122089  0.24287769 -0.22995834 -0.20991999  0.0438101  -0.5178599\n",
      "  0.08785778 -0.06692299 -0.28998357 -0.16178887 -0.18913785 -0.10287409\n",
      " -0.10026503 -0.04862829 -0.23693305 -0.0455689   0.11870112  0.11238942\n",
      "  0.10105834 -0.4771492  -0.10106739 -0.06594379  0.72586024  0.61520654\n",
      "  0.04679266 -0.03268689  0.56103283  0.49196678 -0.1792612   0.32822493\n",
      " -0.04159755 -0.56236637 -0.06698496 -0.0542876  -0.2246779  -0.1031053\n",
      " -0.26109385  0.49571064 -0.57822174 -0.37344995  0.12143081 -0.01722176\n",
      " -0.3616901  -0.03599707 -0.47525516 -0.06137304  0.07900896 -0.05277152\n",
      " -0.20716685 -0.45423275  0.54536873  0.3606592  -0.65945536  0.23024784\n",
      "  0.34697336 -0.0621797  -0.02984626  0.00243723]\n"
     ]
    }
   ],
   "source": [
    "pandemia_vector = key_model[\"pandemia\"]\n",
    "print(pandemia_vector)"
   ]
  },
  {
   "cell_type": "markdown",
   "id": "eac11784-f08e-4652-bfc9-e5f90da33606",
   "metadata": {},
   "source": [
    "Longitud del vector \"pandemia\""
   ]
  },
  {
   "cell_type": "code",
   "execution_count": 79,
   "id": "bd366c19-37c8-475f-91e7-426ab32a9708",
   "metadata": {
    "tags": []
   },
   "outputs": [
    {
     "data": {
      "text/plain": [
       "3.0380428421624783"
      ]
     },
     "execution_count": 79,
     "metadata": {},
     "output_type": "execute_result"
    }
   ],
   "source": [
    "sum(pandemia_vector*pandemia_vector)**0.5"
   ]
  },
  {
   "cell_type": "code",
   "execution_count": 80,
   "id": "73d45106-bc2f-428f-a0f5-ce4297efc2d9",
   "metadata": {
    "tags": []
   },
   "outputs": [
    {
     "data": {
      "text/plain": [
       "(100,)"
      ]
     },
     "execution_count": 80,
     "metadata": {},
     "output_type": "execute_result"
    }
   ],
   "source": [
    "pandemia_vector.shape"
   ]
  },
  {
   "cell_type": "code",
   "execution_count": 81,
   "id": "3ec329ad-1f4a-4400-9a88-31cad37a8b84",
   "metadata": {
    "tags": []
   },
   "outputs": [
    {
     "data": {
      "text/plain": [
       "[('epidemia', 0.9771687388420105),\n",
       " ('ingresaba', 0.9761853218078613),\n",
       " ('acamdemia', 0.9759626388549805),\n",
       " ('aproximadamente', 0.9759359359741211),\n",
       " ('pandemic', 0.9755813479423523),\n",
       " ('colegio', 0.9753250479698181),\n",
       " ('egreso', 0.974170982837677),\n",
       " ('ci', 0.9729998111724854),\n",
       " ('aproxima', 0.9727729558944702),\n",
       " ('covid', 0.9725071787834167)]"
      ]
     },
     "execution_count": 81,
     "metadata": {},
     "output_type": "execute_result"
    }
   ],
   "source": [
    "key_model.most_similar([\"pandemia\"])"
   ]
  },
  {
   "cell_type": "markdown",
   "id": "f3f66838-982d-484e-905a-d586f4c3a905",
   "metadata": {},
   "source": [
    "Obtener la representacion vectorial de un documento"
   ]
  },
  {
   "cell_type": "code",
   "execution_count": 82,
   "id": "7c4a9893-0ae6-4536-b6e6-9e3557da205a",
   "metadata": {},
   "outputs": [
    {
     "data": {
      "text/plain": [
       "array([[-0.34878814,  0.38450465, -0.04177864,  0.40855873,  0.3813158 ,\n",
       "        -0.33506197,  0.14639966, -0.1404888 ,  0.2085058 , -0.48305133,\n",
       "         0.27145165, -0.2520652 , -0.17788094,  0.12681164, -0.65341824,\n",
       "         0.04566998,  0.02866227,  0.27733248, -0.62406564, -0.4059716 ,\n",
       "        -0.30960342,  0.04792475, -0.39524353, -0.12456547, -0.24178675,\n",
       "        -0.13891889, -0.18745337, -0.12828144, -0.05519076,  0.12175844,\n",
       "        -0.05612132,  0.02216432,  0.0410179 ,  0.03403662, -0.2761785 ,\n",
       "         0.18147764,  0.23162311, -0.15011552, -0.12374708, -0.42788944,\n",
       "         0.326867  , -0.26238033,  0.00315759,  0.22131827, -0.34013656,\n",
       "        -0.1926434 ,  0.14900869, -0.47694784,  0.03450155, -0.12294238,\n",
       "        -0.18776199, -0.13273199, -0.16079721, -0.0664361 , -0.12895097,\n",
       "        -0.0067935 , -0.25893992, -0.08077059,  0.25232208,  0.17014582,\n",
       "         0.23108448, -0.43817705, -0.10647551, -0.09223165,  0.5459727 ,\n",
       "         0.4879014 , -0.02596772, -0.13827577,  0.59300286,  0.36650467,\n",
       "        -0.12674147,  0.2603525 , -0.02481738, -0.5093842 , -0.12467687,\n",
       "        -0.09817513, -0.18743713, -0.14713542, -0.2224879 ,  0.50203204,\n",
       "        -0.4806586 , -0.45668933,  0.1464303 , -0.02992581, -0.2555959 ,\n",
       "        -0.0914903 , -0.39222702,  0.04308437,  0.08007574, -0.11542375,\n",
       "        -0.21644697, -0.31083632,  0.39838168,  0.3644233 , -0.6079454 ,\n",
       "         0.20606422,  0.2642354 , -0.04850157, -0.06767234,  0.07503466],\n",
       "       [-0.47535917,  0.4469425 , -0.08889992,  0.4525141 ,  0.47795844,\n",
       "        -0.24794318,  0.16550289, -0.03592255,  0.25135943, -0.43389696,\n",
       "         0.27088374, -0.281261  , -0.20038722,  0.22962731, -0.6397624 ,\n",
       "         0.06929249,  0.06661253,  0.2604368 , -0.6017789 , -0.4097073 ,\n",
       "        -0.342086  , -0.01715344, -0.46508548, -0.14563188, -0.11072055,\n",
       "        -0.1546572 , -0.13298689, -0.21401045, -0.03844127,  0.18706389,\n",
       "         0.10245904, -0.06149973,  0.12074273,  0.07830574, -0.32698956,\n",
       "         0.07109768,  0.19077575, -0.17564686, -0.06366107, -0.65924186,\n",
       "         0.36575025, -0.28583434,  0.02122089,  0.24287769, -0.22995834,\n",
       "        -0.20991999,  0.0438101 , -0.5178599 ,  0.08785778, -0.06692299,\n",
       "        -0.28998357, -0.16178887, -0.18913785, -0.10287409, -0.10026503,\n",
       "        -0.04862829, -0.23693305, -0.0455689 ,  0.11870112,  0.11238942,\n",
       "         0.10105834, -0.4771492 , -0.10106739, -0.06594379,  0.72586024,\n",
       "         0.61520654,  0.04679266, -0.03268689,  0.56103283,  0.49196678,\n",
       "        -0.1792612 ,  0.32822493, -0.04159755, -0.56236637, -0.06698496,\n",
       "        -0.0542876 , -0.2246779 , -0.1031053 , -0.26109385,  0.49571064,\n",
       "        -0.57822174, -0.37344995,  0.12143081, -0.01722176, -0.3616901 ,\n",
       "        -0.03599707, -0.47525516, -0.06137304,  0.07900896, -0.05277152,\n",
       "        -0.20716685, -0.45423275,  0.54536873,  0.3606592 , -0.65945536,\n",
       "         0.23024784,  0.34697336, -0.0621797 , -0.02984626,  0.00243723]],\n",
       "      dtype=float32)"
      ]
     },
     "execution_count": 82,
     "metadata": {},
     "output_type": "execute_result"
    }
   ],
   "source": [
    "# un documento tokenizado puede ser representado como una matriz de embededings, \n",
    "# en este caso, el documento \"covid pandemia\"\n",
    "key_model[['covid', 'pandemia']]"
   ]
  },
  {
   "cell_type": "markdown",
   "id": "d1c2a68b-b40d-4986-aaf5-1e68648ea0f3",
   "metadata": {},
   "source": [
    "Sin embargo, para modelos de machine learning esto no es optimo ya que estos modelos aceptan como input, un vector y **no** una matriz"
   ]
  },
  {
   "cell_type": "markdown",
   "id": "961028cc-9302-4397-9c4e-7327c7cb4319",
   "metadata": {},
   "source": [
    "Es posible promediar todos los embeddings que representan a un solo documento, de esta forma obtenemos una representacion vectorial del documento. Vamos a crear una funcion para ello:"
   ]
  },
  {
   "cell_type": "code",
   "execution_count": 83,
   "id": "390049f8-6b35-476c-adac-c1a692a2be1f",
   "metadata": {
    "tags": []
   },
   "outputs": [],
   "source": [
    "def get_sentence_vector(word_vectors, tokenized_document):\n",
    "    doc = [word for word in tokenized_document if word in word_vectors]\n",
    "    if len(doc) > 0:\n",
    "        return np.mean(word_vectors[doc], axis=0)  # normalize vector before averaging\n",
    "    else:\n",
    "        return None"
   ]
  },
  {
   "cell_type": "code",
   "execution_count": 84,
   "id": "3f218b70-29c7-49f4-af67-2427703e15a1",
   "metadata": {
    "tags": []
   },
   "outputs": [
    {
     "name": "stdout",
     "output_type": "stream",
     "text": [
      "['puedes', 'preguntar', 'fans', 'probabilidad', 'halla', 'clases', 'presenciales', 'proximo', 'ciclo', 'posible', 'llevar', 'presenciales', 'virtuales', 'cierto', 'real', 'verdad', 'manejando', 'tipo', 'paginas']\n"
     ]
    }
   ],
   "source": [
    "print(corpus[125])"
   ]
  },
  {
   "cell_type": "code",
   "execution_count": 85,
   "id": "d05122a0-7929-4583-9a8b-b64bd8dee3c3",
   "metadata": {
    "tags": []
   },
   "outputs": [
    {
     "data": {
      "text/plain": [
       "array([-0.46570483,  0.35979843,  0.2460997 ,  0.6164818 ,  0.4996098 ,\n",
       "       -0.46645707,  0.2920175 , -0.33821374,  0.24981129, -0.5223775 ,\n",
       "        0.2867807 , -0.16843736, -0.28045735,  0.01047138, -0.71035475,\n",
       "        0.01722758,  0.14963378,  0.46548286, -0.5452751 , -0.34808767,\n",
       "       -0.22101271, -0.17935948, -0.5232851 , -0.10239992, -0.40110222,\n",
       "       -0.09259734, -0.1502019 , -0.24519598, -0.13400097,  0.26709017,\n",
       "       -0.15264359,  0.10928688,  0.06633197,  0.04208242, -0.4050258 ,\n",
       "        0.07371589,  0.3516671 , -0.14144397, -0.05986004, -0.49273014,\n",
       "        0.39993286, -0.22230387,  0.07462651,  0.02176721, -0.3846363 ,\n",
       "       -0.05140441, -0.01352565, -0.35135728,  0.12472791,  0.04670028,\n",
       "       -0.2748418 , -0.03172313, -0.1886201 , -0.12579818, -0.22141258,\n",
       "        0.14300469, -0.3336247 ,  0.11218429,  0.27585265,  0.13761899,\n",
       "        0.03280386, -0.27869672, -0.09019964, -0.02636855,  0.396761  ,\n",
       "        0.59416026,  0.16121282, -0.05153586,  0.60634404,  0.49600086,\n",
       "        0.00198565,  0.23336358,  0.06987593, -0.5947791 , -0.02839529,\n",
       "        0.04988285, -0.00995084, -0.29653096, -0.0640351 ,  0.4518492 ,\n",
       "       -0.49315715, -0.5244802 ,  0.02305917,  0.12025369, -0.3245849 ,\n",
       "        0.06016137, -0.3517062 ,  0.03189645,  0.11530419, -0.08801049,\n",
       "       -0.2683238 , -0.27443993,  0.47810218,  0.27032083, -0.62927675,\n",
       "        0.37010938,  0.20087205, -0.12277891, -0.18139382, -0.12725735],\n",
       "      dtype=float32)"
      ]
     },
     "execution_count": 85,
     "metadata": {},
     "output_type": "execute_result"
    }
   ],
   "source": [
    "get_sentence_vector(key_model, corpus[125])"
   ]
  },
  {
   "cell_type": "markdown",
   "id": "cf684244-5f5b-4d72-a98f-e9e40457ef7d",
   "metadata": {},
   "source": [
    "Si queremos obtener la matriz de datos de entrada (donde cada fila representa a un documento) para poder entrenar un modelo de Machine Learning, usamos la siguiente funcion"
   ]
  },
  {
   "cell_type": "code",
   "execution_count": 86,
   "id": "5d6b2a07-2b8a-4113-a132-69edab3052fa",
   "metadata": {
    "tags": []
   },
   "outputs": [],
   "source": [
    "def get_matrix_features(tokenized_documents, word_vectors):\n",
    "    X = [dv for doc in tokenized_documents if (dv := get_sentence_vector(word_vectors, doc)) is not None]\n",
    "    X = np.asarray(X)\n",
    "    return X"
   ]
  },
  {
   "cell_type": "code",
   "execution_count": 87,
   "id": "1149324f-bd85-42de-86db-8d5581088a8c",
   "metadata": {
    "tags": []
   },
   "outputs": [
    {
     "data": {
      "text/plain": [
       "array([[-0.16492157,  0.39495015,  0.15380646, ..., -0.04176918,\n",
       "        -0.06285821,  0.02810989],\n",
       "       [-0.25051168,  0.29933652,  0.08941238, ..., -0.10894046,\n",
       "        -0.12815644, -0.01799944],\n",
       "       [-0.2372306 ,  0.40630752,  0.17936037, ..., -0.02705403,\n",
       "        -0.08114426,  0.00043439],\n",
       "       ...,\n",
       "       [ 0.0510092 ,  0.38551578, -0.01416106, ...,  0.04950898,\n",
       "         0.08275305,  0.15799391],\n",
       "       [-0.1733005 ,  0.36648002,  0.07859138, ..., -0.06605142,\n",
       "        -0.06963263,  0.05051989],\n",
       "       [-0.18174268,  0.4082288 ,  0.06932551, ..., -0.05257936,\n",
       "        -0.0252078 ,  0.04627145]], dtype=float32)"
      ]
     },
     "execution_count": 87,
     "metadata": {},
     "output_type": "execute_result"
    }
   ],
   "source": [
    "X = get_matrix_features(corpus, key_model)\n",
    "X"
   ]
  },
  {
   "cell_type": "code",
   "execution_count": 88,
   "id": "2df6d12a-ca61-4ce2-9b2f-03271470a626",
   "metadata": {
    "tags": []
   },
   "outputs": [
    {
     "data": {
      "text/plain": [
       "(7622, 100)"
      ]
     },
     "execution_count": 88,
     "metadata": {},
     "output_type": "execute_result"
    }
   ],
   "source": [
    "X.shape"
   ]
  },
  {
   "cell_type": "code",
   "execution_count": 89,
   "id": "f5c96a55-b732-4520-ac71-104fee1ce2cc",
   "metadata": {
    "tags": []
   },
   "outputs": [
    {
     "data": {
      "text/plain": [
       "7622"
      ]
     },
     "execution_count": 89,
     "metadata": {},
     "output_type": "execute_result"
    }
   ],
   "source": [
    "len(X)  # cantidad de documentos en el corpus"
   ]
  },
  {
   "cell_type": "markdown",
   "id": "def4d8fb-ca1b-43e2-909f-44cff96f1be2",
   "metadata": {},
   "source": [
    "----"
   ]
  },
  {
   "cell_type": "markdown",
   "id": "5d6226f7-885c-433d-9d2d-1e6fb1a3496c",
   "metadata": {},
   "source": [
    "## Transfer Learning - Embeddings preentrenados"
   ]
  },
  {
   "cell_type": "markdown",
   "id": "e9a8a053-f2a1-40a5-bfa9-74c3ebe59db0",
   "metadata": {},
   "source": [
    "Vamos a cargar los modelos: \n",
    "- Word2Vec Skipgram: Spanish Billion Corpus - https://crscardellino.ar/SBWCE/\n",
    "- Spanish Unannotated Corpora - https://github.com/dccuchile/spanish-word-embeddings#fasttext-embeddings-from-suc\n",
    "\n",
    "Aqui pueden encontrar más modelos basados en embeddings especificos al idioma español:\n",
    "- https://github.com/dccuchile/spanish-word-embeddings"
   ]
  },
  {
   "cell_type": "code",
   "execution_count": 90,
   "id": "0d7226dd-5d93-4aab-b9f9-7d1dfd29f8df",
   "metadata": {
    "tags": []
   },
   "outputs": [],
   "source": [
    "from gensim.models import KeyedVectors\n",
    "from gensim.models.fasttext import load_facebook_vectors, load_facebook_model"
   ]
  },
  {
   "cell_type": "markdown",
   "id": "4fdc63c5-d503-44d2-8745-c565d0935127",
   "metadata": {},
   "source": [
    "Para cargar un embedding preentrenado Word2Vec:"
   ]
  },
  {
   "cell_type": "code",
   "execution_count": null,
   "id": "b6b42ff7-5270-44b0-bd63-2feed33b4e3f",
   "metadata": {},
   "outputs": [],
   "source": [
    "w2v_pretrained = KeyedVectors.load_word2vec_format('embeddings/word2vec/sbw_vectors.bin', binary=True)"
   ]
  },
  {
   "cell_type": "markdown",
   "id": "89f6531b-6676-47f9-8d82-e3f607ec740c",
   "metadata": {},
   "source": [
    "Para cargar un embedding preentrenado FastText:"
   ]
  },
  {
   "cell_type": "code",
   "execution_count": null,
   "id": "1655554b-0f74-42c6-a3fe-8eaf280e44c5",
   "metadata": {},
   "outputs": [],
   "source": [
    "ft_pretrained = load_facebook_vectors('embeddings/fasttext(vec)/model.bin')"
   ]
  },
  {
   "cell_type": "markdown",
   "id": "d00dba84-0839-4841-bc82-a973ddf59c80",
   "metadata": {},
   "source": [
    "Utilizando la clase EmbeddingLoader"
   ]
  },
  {
   "cell_type": "code",
   "execution_count": 94,
   "id": "ef189647-2a74-4f62-bb16-7dd0dc243b6e",
   "metadata": {
    "tags": []
   },
   "outputs": [],
   "source": [
    "from EmbeddingLoader import EmbeddingLoader\n",
    "\n",
    "loader = EmbeddingLoader('word2vec', embedding_path='embeddings/word2vec/sbw_vectors.bin')\n",
    "loader.load_embedding_model()\n",
    "\n",
    "model = loader.embedding_object"
   ]
  },
  {
   "cell_type": "code",
   "execution_count": 96,
   "id": "c11e65e1-f839-4364-b559-1bce025af5d6",
   "metadata": {
    "tags": []
   },
   "outputs": [
    {
     "data": {
      "text/plain": [
       "gensim.models.keyedvectors.KeyedVectors"
      ]
     },
     "execution_count": 96,
     "metadata": {},
     "output_type": "execute_result"
    }
   ],
   "source": [
    "type(model)"
   ]
  },
  {
   "cell_type": "code",
   "execution_count": 97,
   "id": "c2de5766-edd2-4597-adc7-19635077dc54",
   "metadata": {
    "tags": []
   },
   "outputs": [
    {
     "data": {
      "text/plain": [
       "array([ 0.42914522,  0.18478541,  0.3483141 , -0.19908416,  0.48047414,\n",
       "        0.38556612,  0.03594365, -0.3349033 , -0.36773038,  0.5021457 ,\n",
       "       -0.0018208 , -0.4809572 ,  0.16318682, -0.11275186,  0.17996278,\n",
       "        0.24656822, -0.05681027,  0.09116678, -0.19431195,  0.12161419,\n",
       "        0.21356428, -0.1371043 ,  0.02093909,  0.08580279,  0.06824893,\n",
       "       -0.19798575,  0.28420013,  0.06831953, -0.10925457,  0.5925825 ,\n",
       "       -0.3001714 ,  0.09723116, -0.05311775, -0.11275718,  0.03702854,\n",
       "        0.2543165 , -0.04919711, -0.15395342, -0.08209398,  0.26236358,\n",
       "        0.4235284 ,  0.09896774, -0.02899392, -0.22137518,  0.18428046,\n",
       "       -0.4977927 ,  0.04356395,  0.06938778, -0.5183308 , -0.08295436,\n",
       "        0.51685405,  0.5224837 , -0.22405407,  0.08846341,  0.01646345,\n",
       "        0.0665799 , -0.27243853, -0.04766185, -0.01019799,  0.31840512,\n",
       "        0.16162357, -0.29562205,  0.02779709,  0.07293418, -0.19344994,\n",
       "        0.2775112 , -0.35663685,  0.10577558, -0.6789721 , -0.41872832,\n",
       "       -0.18504485, -0.05325795, -0.3039426 , -0.13502866, -0.08698768,\n",
       "        0.15048747, -0.31481773, -0.17767535, -0.21596833, -0.04011455,\n",
       "       -0.0998579 ,  0.4558153 , -0.00255682,  0.5098388 ,  0.05638364,\n",
       "        0.33862534,  0.30216596, -0.00093528,  0.6058728 , -0.23785658,\n",
       "        0.17479938,  0.06115126, -0.26040915,  0.08568008, -0.25599912,\n",
       "       -0.27180538, -0.08805834,  0.22931622, -0.08111165, -0.07609315,\n",
       "       -0.01592069, -0.08798878,  0.08103821,  0.23115113,  0.42287558,\n",
       "        0.03547735,  0.05758924, -0.13733806, -0.059873  ,  0.53282696,\n",
       "        0.21470731,  0.0089941 , -0.41143146, -0.03147099, -0.12939952,\n",
       "        0.508326  ,  0.16888562, -0.1100807 , -0.12562142, -0.51090723,\n",
       "        0.33406967,  0.22384122, -0.17860474, -0.19956948,  0.03629329,\n",
       "       -0.00406907,  0.13138264, -0.43175554,  0.09756969, -0.08400466,\n",
       "        0.44986042,  0.07522947,  0.1456601 , -0.16692415, -0.34627843,\n",
       "        0.25772578, -0.16760027,  0.05795931, -0.1247187 , -0.40261984,\n",
       "       -0.09013774,  0.04555435,  0.1008549 ,  0.07727453,  0.06622683,\n",
       "       -0.28014028, -0.03678874, -0.2135829 ,  0.63884586, -0.46981612,\n",
       "        0.10339379, -0.13653854,  0.6409856 , -0.43328094,  0.1635235 ,\n",
       "        0.12724201,  0.38317382,  0.08728776, -0.07459465, -0.14426477,\n",
       "       -0.27692133, -0.14414918, -0.15226513,  0.00219272, -0.28674713,\n",
       "       -0.29965112, -0.1613875 ,  0.33405364,  0.2802727 ,  0.01559771,\n",
       "       -0.05091382, -0.3141511 ,  0.24155127, -0.43901417,  0.31528097,\n",
       "       -0.1448469 ,  0.17701969, -0.14799753, -0.19408439,  0.47004592,\n",
       "       -0.0957303 , -0.10483857,  0.05490352, -0.19479863, -0.08511709,\n",
       "        0.19599335, -0.05310983, -0.3074275 ,  0.30834928,  0.11661504,\n",
       "       -0.3685093 , -0.00857826, -0.28315824,  0.2588711 ,  0.3565731 ,\n",
       "        0.00426898, -0.05230974, -0.28144062, -0.29344222, -0.49886915,\n",
       "       -0.5603112 ,  0.2533577 , -0.01569425, -0.11594926,  0.3102229 ,\n",
       "        0.31770435, -0.17327313,  0.09019198,  0.17886235, -0.12210457,\n",
       "       -0.03935025, -0.13276742,  0.45608056,  0.171444  ,  0.15415344,\n",
       "        0.19800696, -0.5680959 ,  0.21090895, -0.40030926,  0.31380084,\n",
       "       -0.00726825, -0.19663613, -0.21535407, -0.19831337, -0.3167111 ,\n",
       "        0.10045575, -0.09682467,  0.06943531,  0.11838929,  0.35308427,\n",
       "        0.4696973 , -0.03170839,  0.00837824,  0.04150499,  0.09230824,\n",
       "       -0.22032624, -0.14453666,  0.1252498 , -0.4612202 ,  0.18499868,\n",
       "        0.06662223,  0.01693086,  0.00332246, -0.14680341,  0.17342453,\n",
       "       -0.30477893, -0.19561575, -0.17563991,  0.1465428 , -0.5860654 ,\n",
       "        0.31087586, -0.38924327,  0.5224066 , -0.19540721, -0.23752506,\n",
       "       -0.0588411 ,  0.13101502,  0.07461014, -0.04473647, -0.3108527 ,\n",
       "        0.03969655,  0.19961451,  0.08901136, -0.15941817,  0.10803308,\n",
       "       -0.08237965, -0.10614102,  0.09093342, -0.02753857,  0.20594479,\n",
       "       -0.34149984, -0.25175014, -0.31779292,  0.19623609, -0.2939427 ,\n",
       "       -0.13957347, -0.04522675,  0.19596356, -0.18252727, -0.43943548,\n",
       "       -0.10330211,  0.14147484, -0.29858428,  0.22076352,  0.00096583,\n",
       "       -0.36668372,  0.32176194, -0.15745153,  0.00439932, -0.18858325,\n",
       "        0.03191874,  0.12309685, -0.05757028, -0.17197923, -0.3754299 ,\n",
       "       -0.06794877,  0.4064462 , -0.21273686, -0.06099246, -0.24461472],\n",
       "      dtype=float32)"
      ]
     },
     "execution_count": 97,
     "metadata": {},
     "output_type": "execute_result"
    }
   ],
   "source": [
    "model['pandemia']"
   ]
  },
  {
   "cell_type": "code",
   "execution_count": 98,
   "id": "b30ac34a-e6eb-4ce8-8665-500be7624b83",
   "metadata": {
    "tags": []
   },
   "outputs": [
    {
     "data": {
      "text/plain": [
       "(300,)"
      ]
     },
     "execution_count": 98,
     "metadata": {},
     "output_type": "execute_result"
    }
   ],
   "source": [
    "model['pandemia'].shape"
   ]
  }
 ],
 "metadata": {
  "kernelspec": {
   "display_name": "Python 3 (ipykernel)",
   "language": "python",
   "name": "python3"
  },
  "language_info": {
   "codemirror_mode": {
    "name": "ipython",
    "version": 3
   },
   "file_extension": ".py",
   "mimetype": "text/x-python",
   "name": "python",
   "nbconvert_exporter": "python",
   "pygments_lexer": "ipython3",
   "version": "3.9.7"
  }
 },
 "nbformat": 4,
 "nbformat_minor": 5
}
